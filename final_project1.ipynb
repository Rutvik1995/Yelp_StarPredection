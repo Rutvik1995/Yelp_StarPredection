{
 "cells": [
  {
   "cell_type": "markdown",
   "metadata": {},
   "source": [
    "# Project 1 Artificial Intelligence "
   ]
  },
  {
   "cell_type": "code",
   "execution_count": 1,
   "metadata": {
    "collapsed": true
   },
   "outputs": [],
   "source": [
    "import json\n",
    "import csv\n",
    "import pandas as pd\n",
    "import numpy as np\n",
    "import sklearn.feature_extraction.text as tfidf\n",
    "from sklearn.feature_extraction.text import CountVectorizer\n",
    "from scipy.stats import zscore\n",
    "from sklearn.model_selection import train_test_split\n",
    "from sklearn import datasets,linear_model, preprocessing,utils\n",
    "from sklearn.metrics import mean_squared_error,r2_score\n",
    "from sklearn.preprocessing import LabelEncoder\n",
    "import matplotlib.pyplot as plt \n",
    "from sklearn.linear_model import LogisticRegression\n",
    "from sklearn.metrics import f1_score\n",
    "from sklearn.neighbors import KNeighborsClassifier\n",
    "%matplotlib inline\n",
    "from sklearn import svm\n",
    "from sklearn.naive_bayes import MultinomialNB\n",
    "from sklearn.preprocessing import MinMaxScaler\n",
    "%matplotlib inline\n",
    "from matplotlib.pyplot import figure, show"
   ]
  },
  {
   "cell_type": "markdown",
   "metadata": {},
   "source": [
    "## Code to convert JSON data into a tabular format Pandas can read"
   ]
  },
  {
   "cell_type": "code",
   "execution_count": 2,
   "metadata": {
    "collapsed": true
   },
   "outputs": [],
   "source": [
    "#code to convert JSON data into a tabular format Pandas can read\n",
    "\n",
    "outfile1 = open(\"business.tsv\",'w')\n",
    "bfile = csv.writer(outfile1, delimiter =\"\\t\", quoting=csv.QUOTE_MINIMAL)\n",
    "bfile.writerow(['business_id','review_count','stars'])\n",
    "with open('business.json') as f:\n",
    "    for line in f:\n",
    "                row1 = json.loads(line)\n",
    "# some special char must be encoded in 'utf-8'\n",
    "                bfile.writerow([row1['business_id'],row1['review_count'],row1['stars']])\n",
    "    outfile1.close()\n",
    "    df1= pd.read_csv('business.tsv', delimiter =\"\\t\", encoding=\"utf-8\")\n",
    "\n",
    "\n"
   ]
  },
  {
   "cell_type": "code",
   "execution_count": 3,
   "metadata": {},
   "outputs": [
    {
     "data": {
      "text/html": [
       "<div>\n",
       "<style>\n",
       "    .dataframe thead tr:only-child th {\n",
       "        text-align: right;\n",
       "    }\n",
       "\n",
       "    .dataframe thead th {\n",
       "        text-align: left;\n",
       "    }\n",
       "\n",
       "    .dataframe tbody tr th {\n",
       "        vertical-align: top;\n",
       "    }\n",
       "</style>\n",
       "<table border=\"1\" class=\"dataframe\">\n",
       "  <thead>\n",
       "    <tr style=\"text-align: right;\">\n",
       "      <th></th>\n",
       "      <th>business_id</th>\n",
       "      <th>review_count</th>\n",
       "      <th>stars</th>\n",
       "    </tr>\n",
       "  </thead>\n",
       "  <tbody>\n",
       "    <tr>\n",
       "      <th>0</th>\n",
       "      <td>1SWheh84yJXfytovILXOAQ</td>\n",
       "      <td>5</td>\n",
       "      <td>3.0</td>\n",
       "    </tr>\n",
       "    <tr>\n",
       "      <th>1</th>\n",
       "      <td>QXAEGFB4oINsVuTFxEYKFQ</td>\n",
       "      <td>128</td>\n",
       "      <td>2.5</td>\n",
       "    </tr>\n",
       "    <tr>\n",
       "      <th>2</th>\n",
       "      <td>gnKjwL_1w79qoiV3IC_xQQ</td>\n",
       "      <td>170</td>\n",
       "      <td>4.0</td>\n",
       "    </tr>\n",
       "    <tr>\n",
       "      <th>3</th>\n",
       "      <td>xvX2CttrVhyG2z1dFg_0xw</td>\n",
       "      <td>3</td>\n",
       "      <td>5.0</td>\n",
       "    </tr>\n",
       "    <tr>\n",
       "      <th>4</th>\n",
       "      <td>HhyxOkGAM07SRYtlQ4wMFQ</td>\n",
       "      <td>4</td>\n",
       "      <td>4.0</td>\n",
       "    </tr>\n",
       "  </tbody>\n",
       "</table>\n",
       "</div>"
      ],
      "text/plain": [
       "              business_id  review_count  stars\n",
       "0  1SWheh84yJXfytovILXOAQ             5    3.0\n",
       "1  QXAEGFB4oINsVuTFxEYKFQ           128    2.5\n",
       "2  gnKjwL_1w79qoiV3IC_xQQ           170    4.0\n",
       "3  xvX2CttrVhyG2z1dFg_0xw             3    5.0\n",
       "4  HhyxOkGAM07SRYtlQ4wMFQ             4    4.0"
      ]
     },
     "execution_count": 3,
     "metadata": {},
     "output_type": "execute_result"
    }
   ],
   "source": [
    "df1.head()"
   ]
  },
  {
   "cell_type": "code",
   "execution_count": 4,
   "metadata": {
    "collapsed": true,
    "scrolled": true
   },
   "outputs": [],
   "source": [
    "#convert json to tsv with few table columns\n",
    "\n",
    "outfile = open(\"review.tsv\", 'w')\n",
    "sfile = csv.writer(outfile, delimiter =\"\\t\", quoting=csv.QUOTE_MINIMAL)\n",
    "sfile.writerow(['business_id','stars', 'text'])\n",
    "with open('review.json') as f:\n",
    "    for line in f:\n",
    "        row = json.loads(line)\n",
    "        # some special char must be encoded in 'utf-8'\n",
    "        sfile.writerow([row['business_id'], row['stars'], (row['text']).encode('utf-8')])\n",
    "    outfile.close()\n",
    "    df= pd.read_csv('review.tsv', delimiter =\"\\t\", encoding=\"utf-8\")\n",
    "\n"
   ]
  },
  {
   "cell_type": "code",
   "execution_count": 5,
   "metadata": {},
   "outputs": [
    {
     "data": {
      "text/html": [
       "<div>\n",
       "<style>\n",
       "    .dataframe thead tr:only-child th {\n",
       "        text-align: right;\n",
       "    }\n",
       "\n",
       "    .dataframe thead th {\n",
       "        text-align: left;\n",
       "    }\n",
       "\n",
       "    .dataframe tbody tr th {\n",
       "        vertical-align: top;\n",
       "    }\n",
       "</style>\n",
       "<table border=\"1\" class=\"dataframe\">\n",
       "  <thead>\n",
       "    <tr style=\"text-align: right;\">\n",
       "      <th></th>\n",
       "      <th>business_id</th>\n",
       "      <th>stars</th>\n",
       "      <th>text</th>\n",
       "    </tr>\n",
       "  </thead>\n",
       "  <tbody>\n",
       "    <tr>\n",
       "      <th>0</th>\n",
       "      <td>ujmEBvifdJM6h6RLv4wQIg</td>\n",
       "      <td>1.0</td>\n",
       "      <td>b'Total bill for this horrible service? Over $...</td>\n",
       "    </tr>\n",
       "    <tr>\n",
       "      <th>1</th>\n",
       "      <td>NZnhc2sEQy3RmzKTZnqtwQ</td>\n",
       "      <td>5.0</td>\n",
       "      <td>b\"I *adore* Travis at the Hard Rock's new Kell...</td>\n",
       "    </tr>\n",
       "    <tr>\n",
       "      <th>2</th>\n",
       "      <td>WTqjgwHlXbSFevF32_DJVw</td>\n",
       "      <td>5.0</td>\n",
       "      <td>b\"I have to say that this office really has it...</td>\n",
       "    </tr>\n",
       "    <tr>\n",
       "      <th>3</th>\n",
       "      <td>ikCg8xy5JIg_NGPx-MSIDA</td>\n",
       "      <td>5.0</td>\n",
       "      <td>b\"Went in for a lunch. Steak sandwich was deli...</td>\n",
       "    </tr>\n",
       "    <tr>\n",
       "      <th>4</th>\n",
       "      <td>b1b1eb3uo-w561D0ZfCEiQ</td>\n",
       "      <td>1.0</td>\n",
       "      <td>b'Today was my second out of three sessions I ...</td>\n",
       "    </tr>\n",
       "  </tbody>\n",
       "</table>\n",
       "</div>"
      ],
      "text/plain": [
       "              business_id  stars  \\\n",
       "0  ujmEBvifdJM6h6RLv4wQIg    1.0   \n",
       "1  NZnhc2sEQy3RmzKTZnqtwQ    5.0   \n",
       "2  WTqjgwHlXbSFevF32_DJVw    5.0   \n",
       "3  ikCg8xy5JIg_NGPx-MSIDA    5.0   \n",
       "4  b1b1eb3uo-w561D0ZfCEiQ    1.0   \n",
       "\n",
       "                                                text  \n",
       "0  b'Total bill for this horrible service? Over $...  \n",
       "1  b\"I *adore* Travis at the Hard Rock's new Kell...  \n",
       "2  b\"I have to say that this office really has it...  \n",
       "3  b\"Went in for a lunch. Steak sandwich was deli...  \n",
       "4  b'Today was my second out of three sessions I ...  "
      ]
     },
     "execution_count": 5,
     "metadata": {},
     "output_type": "execute_result"
    }
   ],
   "source": [
    "df.head()"
   ]
  },
  {
   "cell_type": "markdown",
   "metadata": {},
   "source": [
    "## Group ALL the reviews by each business and create a new dataframe"
   ]
  },
  {
   "cell_type": "code",
   "execution_count": 6,
   "metadata": {
    "collapsed": true
   },
   "outputs": [],
   "source": [
    "df_review_agg = df.groupby('business_id')['text'].sum()\n",
    "df_ready_for_sklearn = pd.DataFrame({'business_id': df_review_agg.index, 'all_reviews': df_review_agg.values})"
   ]
  },
  {
   "cell_type": "markdown",
   "metadata": {},
   "source": [
    "## Merge business and reviews dataframes"
   ]
  },
  {
   "cell_type": "code",
   "execution_count": 7,
   "metadata": {
    "scrolled": false
   },
   "outputs": [
    {
     "data": {
      "text/html": [
       "<div>\n",
       "<style>\n",
       "    .dataframe thead tr:only-child th {\n",
       "        text-align: right;\n",
       "    }\n",
       "\n",
       "    .dataframe thead th {\n",
       "        text-align: left;\n",
       "    }\n",
       "\n",
       "    .dataframe tbody tr th {\n",
       "        vertical-align: top;\n",
       "    }\n",
       "</style>\n",
       "<table border=\"1\" class=\"dataframe\">\n",
       "  <thead>\n",
       "    <tr style=\"text-align: right;\">\n",
       "      <th></th>\n",
       "      <th>business_id</th>\n",
       "      <th>review_count</th>\n",
       "      <th>stars</th>\n",
       "      <th>all_reviews</th>\n",
       "    </tr>\n",
       "  </thead>\n",
       "  <tbody>\n",
       "    <tr>\n",
       "      <th>0</th>\n",
       "      <td>1SWheh84yJXfytovILXOAQ</td>\n",
       "      <td>5</td>\n",
       "      <td>3.0</td>\n",
       "      <td>b\"Don't go here if you expect consistent or re...</td>\n",
       "    </tr>\n",
       "    <tr>\n",
       "      <th>1</th>\n",
       "      <td>QXAEGFB4oINsVuTFxEYKFQ</td>\n",
       "      <td>128</td>\n",
       "      <td>2.5</td>\n",
       "      <td>b'My girlfriend and I went for dinner at Emera...</td>\n",
       "    </tr>\n",
       "    <tr>\n",
       "      <th>2</th>\n",
       "      <td>gnKjwL_1w79qoiV3IC_xQQ</td>\n",
       "      <td>170</td>\n",
       "      <td>4.0</td>\n",
       "      <td>b'Husband was craving Chicken Teriyaki &amp; gyoza...</td>\n",
       "    </tr>\n",
       "    <tr>\n",
       "      <th>3</th>\n",
       "      <td>xvX2CttrVhyG2z1dFg_0xw</td>\n",
       "      <td>3</td>\n",
       "      <td>5.0</td>\n",
       "      <td>b'The associates at this agency are absolutely...</td>\n",
       "    </tr>\n",
       "    <tr>\n",
       "      <th>4</th>\n",
       "      <td>HhyxOkGAM07SRYtlQ4wMFQ</td>\n",
       "      <td>4</td>\n",
       "      <td>4.0</td>\n",
       "      <td>b\"Great customer service and great job every t...</td>\n",
       "    </tr>\n",
       "  </tbody>\n",
       "</table>\n",
       "</div>"
      ],
      "text/plain": [
       "              business_id  review_count  stars  \\\n",
       "0  1SWheh84yJXfytovILXOAQ             5    3.0   \n",
       "1  QXAEGFB4oINsVuTFxEYKFQ           128    2.5   \n",
       "2  gnKjwL_1w79qoiV3IC_xQQ           170    4.0   \n",
       "3  xvX2CttrVhyG2z1dFg_0xw             3    5.0   \n",
       "4  HhyxOkGAM07SRYtlQ4wMFQ             4    4.0   \n",
       "\n",
       "                                         all_reviews  \n",
       "0  b\"Don't go here if you expect consistent or re...  \n",
       "1  b'My girlfriend and I went for dinner at Emera...  \n",
       "2  b'Husband was craving Chicken Teriyaki & gyoza...  \n",
       "3  b'The associates at this agency are absolutely...  \n",
       "4  b\"Great customer service and great job every t...  "
      ]
     },
     "execution_count": 7,
     "metadata": {},
     "output_type": "execute_result"
    }
   ],
   "source": [
    "newmerge= pd.merge(df1, df_ready_for_sklearn, on='business_id')\n",
    "newmerge.head()"
   ]
  },
  {
   "cell_type": "code",
   "execution_count": 8,
   "metadata": {
    "collapsed": true
   },
   "outputs": [],
   "source": [
    "bus_rev_df = newmerge[['review_count','all_reviews']]"
   ]
  },
  {
   "cell_type": "markdown",
   "metadata": {},
   "source": [
    "## TF-IDF Vectorization of text coloumn"
   ]
  },
  {
   "cell_type": "code",
   "execution_count": 9,
   "metadata": {
    "collapsed": true
   },
   "outputs": [],
   "source": [
    "vectorizer = tfidf.TfidfVectorizer(stop_words='english',max_features = 1000,min_df = 10,max_df = 0.50)"
   ]
  },
  {
   "cell_type": "code",
   "execution_count": 10,
   "metadata": {
    "collapsed": true
   },
   "outputs": [],
   "source": [
    "matrix = vectorizer.fit_transform(bus_rev_df['all_reviews'])"
   ]
  },
  {
   "cell_type": "code",
   "execution_count": 11,
   "metadata": {},
   "outputs": [
    {
     "data": {
      "text/plain": [
       "<192606x1000 sparse matrix of type '<class 'numpy.float64'>'\n",
       "\twith 40105782 stored elements in Compressed Sparse Row format>"
      ]
     },
     "execution_count": 11,
     "metadata": {},
     "output_type": "execute_result"
    }
   ],
   "source": [
    "matrix"
   ]
  },
  {
   "cell_type": "code",
   "execution_count": 12,
   "metadata": {},
   "outputs": [
    {
     "data": {
      "text/plain": [
       "array([[ 0.        ,  0.        ,  0.12629112, ...,  0.        ,\n",
       "         0.        ,  0.        ],\n",
       "       [ 0.02595623,  0.0357873 ,  0.        , ...,  0.00382152,\n",
       "         0.        ,  0.00413052],\n",
       "       [ 0.00291396,  0.01406174,  0.00580901, ...,  0.00150157,\n",
       "         0.        ,  0.00811493],\n",
       "       ..., \n",
       "       [ 0.        ,  0.        ,  0.        , ...,  0.        ,\n",
       "         0.        ,  0.        ],\n",
       "       [ 0.        ,  0.        ,  0.        , ...,  0.        ,\n",
       "         0.        ,  0.        ],\n",
       "       [ 0.        ,  0.        ,  0.        , ...,  0.        ,\n",
       "         0.        ,  0.        ]])"
      ]
     },
     "execution_count": 12,
     "metadata": {},
     "output_type": "execute_result"
    }
   ],
   "source": [
    "review_array = matrix.toarray() \n",
    "review_array"
   ]
  },
  {
   "cell_type": "markdown",
   "metadata": {},
   "source": [
    "## NORMALISATION OF \"REVIEW COUNT\""
   ]
  },
  {
   "cell_type": "code",
   "execution_count": 13,
   "metadata": {},
   "outputs": [
    {
     "name": "stderr",
     "output_type": "stream",
     "text": [
      "/anaconda3/lib/python3.6/site-packages/ipykernel_launcher.py:1: SettingWithCopyWarning: \n",
      "A value is trying to be set on a copy of a slice from a DataFrame.\n",
      "Try using .loc[row_indexer,col_indexer] = value instead\n",
      "\n",
      "See the caveats in the documentation: http://pandas.pydata.org/pandas-docs/stable/indexing.html#indexing-view-versus-copy\n",
      "  \"\"\"Entry point for launching an IPython kernel.\n"
     ]
    }
   ],
   "source": [
    "bus_rev_df['review_count'] = zscore(bus_rev_df['review_count'])"
   ]
  },
  {
   "cell_type": "code",
   "execution_count": 161,
   "metadata": {},
   "outputs": [
    {
     "data": {
      "text/html": [
       "<div>\n",
       "<style>\n",
       "    .dataframe thead tr:only-child th {\n",
       "        text-align: right;\n",
       "    }\n",
       "\n",
       "    .dataframe thead th {\n",
       "        text-align: left;\n",
       "    }\n",
       "\n",
       "    .dataframe tbody tr th {\n",
       "        vertical-align: top;\n",
       "    }\n",
       "</style>\n",
       "<table border=\"1\" class=\"dataframe\">\n",
       "  <thead>\n",
       "    <tr style=\"text-align: right;\">\n",
       "      <th></th>\n",
       "      <th>review_count</th>\n",
       "      <th>all_reviews</th>\n",
       "    </tr>\n",
       "  </thead>\n",
       "  <tbody>\n",
       "    <tr>\n",
       "      <th>0</th>\n",
       "      <td>-0.259129</td>\n",
       "      <td>b\"Don't go here if you expect consistent or re...</td>\n",
       "    </tr>\n",
       "    <tr>\n",
       "      <th>1</th>\n",
       "      <td>0.857675</td>\n",
       "      <td>b'My girlfriend and I went for dinner at Emera...</td>\n",
       "    </tr>\n",
       "    <tr>\n",
       "      <th>2</th>\n",
       "      <td>1.239022</td>\n",
       "      <td>b'Husband was craving Chicken Teriyaki &amp; gyoza...</td>\n",
       "    </tr>\n",
       "    <tr>\n",
       "      <th>3</th>\n",
       "      <td>-0.277288</td>\n",
       "      <td>b'The associates at this agency are absolutely...</td>\n",
       "    </tr>\n",
       "    <tr>\n",
       "      <th>4</th>\n",
       "      <td>-0.268208</td>\n",
       "      <td>b\"Great customer service and great job every t...</td>\n",
       "    </tr>\n",
       "  </tbody>\n",
       "</table>\n",
       "</div>"
      ],
      "text/plain": [
       "   review_count                                        all_reviews\n",
       "0     -0.259129  b\"Don't go here if you expect consistent or re...\n",
       "1      0.857675  b'My girlfriend and I went for dinner at Emera...\n",
       "2      1.239022  b'Husband was craving Chicken Teriyaki & gyoza...\n",
       "3     -0.277288  b'The associates at this agency are absolutely...\n",
       "4     -0.268208  b\"Great customer service and great job every t..."
      ]
     },
     "execution_count": 161,
     "metadata": {},
     "output_type": "execute_result"
    }
   ],
   "source": [
    "bus_rev_df.head()"
   ]
  },
  {
   "cell_type": "markdown",
   "metadata": {},
   "source": [
    "## Convert pandas dataframe to corresponding numpy array"
   ]
  },
  {
   "cell_type": "code",
   "execution_count": 15,
   "metadata": {
    "collapsed": true
   },
   "outputs": [],
   "source": [
    "\n",
    "df_toarray = bus_rev_df['review_count'].values"
   ]
  },
  {
   "cell_type": "code",
   "execution_count": 16,
   "metadata": {},
   "outputs": [
    {
     "data": {
      "text/plain": [
       "array([-0.25912875,  0.85767481,  1.23902236, ..., -0.17741141,\n",
       "       -0.16833171, -0.27728815])"
      ]
     },
     "execution_count": 16,
     "metadata": {},
     "output_type": "execute_result"
    }
   ],
   "source": [
    "df_toarray"
   ]
  },
  {
   "cell_type": "code",
   "execution_count": 17,
   "metadata": {},
   "outputs": [
    {
     "data": {
      "text/plain": [
       "(192606,)"
      ]
     },
     "execution_count": 17,
     "metadata": {},
     "output_type": "execute_result"
    }
   ],
   "source": [
    "df_toarray.shape"
   ]
  },
  {
   "cell_type": "code",
   "execution_count": 18,
   "metadata": {
    "collapsed": true
   },
   "outputs": [],
   "source": [
    "review_arr = np.column_stack((df_toarray,review_array))"
   ]
  },
  {
   "cell_type": "code",
   "execution_count": 19,
   "metadata": {},
   "outputs": [
    {
     "data": {
      "text/plain": [
       "array([-0.25912875,  0.        ,  0.        , ...,  0.        ,\n",
       "        0.        ,  0.        ])"
      ]
     },
     "execution_count": 19,
     "metadata": {},
     "output_type": "execute_result"
    }
   ],
   "source": [
    "review_arr[0]"
   ]
  },
  {
   "cell_type": "code",
   "execution_count": 20,
   "metadata": {
    "collapsed": true
   },
   "outputs": [],
   "source": [
    "star_rating_arr = df1['stars'].values"
   ]
  },
  {
   "cell_type": "markdown",
   "metadata": {},
   "source": [
    "## Spliting data to training and test data"
   ]
  },
  {
   "cell_type": "code",
   "execution_count": 1,
   "metadata": {},
   "outputs": [
    {
     "ename": "NameError",
     "evalue": "name 'train_test_split' is not defined",
     "output_type": "error",
     "traceback": [
      "\u001b[0;31m---------------------------------------------------------------------------\u001b[0m",
      "\u001b[0;31mNameError\u001b[0m                                 Traceback (most recent call last)",
      "\u001b[0;32m<ipython-input-1-d2f4abd6bd1a>\u001b[0m in \u001b[0;36m<module>\u001b[0;34m()\u001b[0m\n\u001b[1;32m      1\u001b[0m \u001b[0;31m#x_train,x_test,y_train,y_test = train_test_split(business_review_array,business_df_to_array,test_size=0.2,random_state=42)\u001b[0m\u001b[0;34m\u001b[0m\u001b[0;34m\u001b[0m\u001b[0m\n\u001b[1;32m      2\u001b[0m \u001b[0;34m\u001b[0m\u001b[0m\n\u001b[0;32m----> 3\u001b[0;31m \u001b[0mx_train\u001b[0m\u001b[0;34m,\u001b[0m\u001b[0mx_test\u001b[0m\u001b[0;34m,\u001b[0m\u001b[0my_train\u001b[0m\u001b[0;34m,\u001b[0m\u001b[0my_test\u001b[0m \u001b[0;34m=\u001b[0m \u001b[0mtrain_test_split\u001b[0m\u001b[0;34m(\u001b[0m\u001b[0mreview_arr\u001b[0m\u001b[0;34m,\u001b[0m\u001b[0mstar_rating_arr\u001b[0m\u001b[0;34m,\u001b[0m \u001b[0mtest_size\u001b[0m\u001b[0;34m=\u001b[0m\u001b[0;36m0.2\u001b[0m\u001b[0;34m,\u001b[0m\u001b[0mrandom_state\u001b[0m\u001b[0;34m=\u001b[0m\u001b[0;36m42\u001b[0m\u001b[0;34m)\u001b[0m\u001b[0;34m\u001b[0m\u001b[0m\n\u001b[0m",
      "\u001b[0;31mNameError\u001b[0m: name 'train_test_split' is not defined"
     ]
    }
   ],
   "source": [
    "#x_train,x_test,y_train,y_test = train_test_split(business_review_array,business_df_to_array,test_size=0.2,random_state=42)\n",
    "\n",
    "x_train,x_test,y_train,y_test = train_test_split(review_arr[:5000],star_rating_arr[:5000], test_size=0.2,random_state=42)"
   ]
  },
  {
   "cell_type": "code",
   "execution_count": 22,
   "metadata": {},
   "outputs": [
    {
     "data": {
      "text/plain": [
       "(4000, 1001)"
      ]
     },
     "execution_count": 22,
     "metadata": {},
     "output_type": "execute_result"
    }
   ],
   "source": [
    "x_train.shape"
   ]
  },
  {
   "cell_type": "code",
   "execution_count": 23,
   "metadata": {},
   "outputs": [
    {
     "data": {
      "text/plain": [
       "(1000, 1001)"
      ]
     },
     "execution_count": 23,
     "metadata": {},
     "output_type": "execute_result"
    }
   ],
   "source": [
    "x_test.shape"
   ]
  },
  {
   "cell_type": "code",
   "execution_count": 24,
   "metadata": {},
   "outputs": [
    {
     "data": {
      "text/plain": [
       "array([[-0.23188963,  0.        ,  0.        , ...,  0.        ,\n",
       "         0.        ,  0.        ],\n",
       "       [-0.20465052,  0.        ,  0.        , ...,  0.        ,\n",
       "         0.        ,  0.02717993],\n",
       "       [-0.24096934,  0.        ,  0.        , ...,  0.        ,\n",
       "         0.        ,  0.        ],\n",
       "       ..., \n",
       "       [-0.25912875,  0.        ,  0.        , ...,  0.        ,\n",
       "         0.        ,  0.        ],\n",
       "       [-0.27728815,  0.        ,  0.09651988, ...,  0.        ,\n",
       "         0.        ,  0.        ],\n",
       "       [-0.26820845,  0.        ,  0.        , ...,  0.        ,\n",
       "         0.        ,  0.        ]])"
      ]
     },
     "execution_count": 24,
     "metadata": {},
     "output_type": "execute_result"
    }
   ],
   "source": [
    "x_train"
   ]
  },
  {
   "cell_type": "code",
   "execution_count": 25,
   "metadata": {},
   "outputs": [
    {
     "data": {
      "text/plain": [
       "(1000,)"
      ]
     },
     "execution_count": 25,
     "metadata": {},
     "output_type": "execute_result"
    }
   ],
   "source": [
    "y_test.shape"
   ]
  },
  {
   "cell_type": "markdown",
   "metadata": {},
   "source": [
    "# LINEAR REGRESSION"
   ]
  },
  {
   "cell_type": "code",
   "execution_count": 26,
   "metadata": {
    "collapsed": true
   },
   "outputs": [],
   "source": [
    "linear_reg = linear_model.LinearRegression()"
   ]
  },
  {
   "cell_type": "code",
   "execution_count": 27,
   "metadata": {},
   "outputs": [
    {
     "data": {
      "text/plain": [
       "LinearRegression(copy_X=True, fit_intercept=True, n_jobs=1, normalize=False)"
      ]
     },
     "execution_count": 27,
     "metadata": {},
     "output_type": "execute_result"
    }
   ],
   "source": [
    "linear_reg.fit(x_train,y_train)"
   ]
  },
  {
   "cell_type": "code",
   "execution_count": 28,
   "metadata": {
    "collapsed": true
   },
   "outputs": [],
   "source": [
    "y_pred = linear_reg.predict(x_test)"
   ]
  },
  {
   "cell_type": "code",
   "execution_count": 29,
   "metadata": {
    "collapsed": true
   },
   "outputs": [],
   "source": [
    "error = np.sqrt(mean_squared_error(y_test, y_pred))"
   ]
  },
  {
   "cell_type": "code",
   "execution_count": 30,
   "metadata": {
    "collapsed": true
   },
   "outputs": [],
   "source": [
    "a=y_pred.tolist()\n",
    "y_pred_new = list(map( lambda x:round(x*2)/2,a))\n",
    "# y_test_actual = y_test.tolist()"
   ]
  },
  {
   "cell_type": "code",
   "execution_count": 31,
   "metadata": {},
   "outputs": [
    {
     "name": "stdout",
     "output_type": "stream",
     "text": [
      "Root Mean squared error: 0.62\n",
      "R2 score 0.61\n"
     ]
    }
   ],
   "source": [
    "print(\"Root Mean squared error: %.2f\" % error)\n",
    "# Explained variance score: 1 is perfect prediction\n",
    "print('R2 score %.2f' % r2_score(y_test, y_pred))"
   ]
  },
  {
   "cell_type": "code",
   "execution_count": 32,
   "metadata": {},
   "outputs": [
    {
     "data": {
      "text/html": [
       "<div>\n",
       "<style>\n",
       "    .dataframe thead tr:only-child th {\n",
       "        text-align: right;\n",
       "    }\n",
       "\n",
       "    .dataframe thead th {\n",
       "        text-align: left;\n",
       "    }\n",
       "\n",
       "    .dataframe tbody tr th {\n",
       "        vertical-align: top;\n",
       "    }\n",
       "</style>\n",
       "<table border=\"1\" class=\"dataframe\">\n",
       "  <thead>\n",
       "    <tr style=\"text-align: right;\">\n",
       "      <th></th>\n",
       "      <th>business_id</th>\n",
       "      <th>stars</th>\n",
       "      <th>Prediction</th>\n",
       "    </tr>\n",
       "  </thead>\n",
       "  <tbody>\n",
       "    <tr>\n",
       "      <th>0</th>\n",
       "      <td>1SWheh84yJXfytovILXOAQ</td>\n",
       "      <td>3.0</td>\n",
       "      <td>3.052763</td>\n",
       "    </tr>\n",
       "    <tr>\n",
       "      <th>1</th>\n",
       "      <td>QXAEGFB4oINsVuTFxEYKFQ</td>\n",
       "      <td>2.5</td>\n",
       "      <td>2.299343</td>\n",
       "    </tr>\n",
       "    <tr>\n",
       "      <th>2</th>\n",
       "      <td>gnKjwL_1w79qoiV3IC_xQQ</td>\n",
       "      <td>4.0</td>\n",
       "      <td>3.060994</td>\n",
       "    </tr>\n",
       "    <tr>\n",
       "      <th>3</th>\n",
       "      <td>xvX2CttrVhyG2z1dFg_0xw</td>\n",
       "      <td>5.0</td>\n",
       "      <td>3.402871</td>\n",
       "    </tr>\n",
       "    <tr>\n",
       "      <th>4</th>\n",
       "      <td>HhyxOkGAM07SRYtlQ4wMFQ</td>\n",
       "      <td>4.0</td>\n",
       "      <td>4.193530</td>\n",
       "    </tr>\n",
       "  </tbody>\n",
       "</table>\n",
       "</div>"
      ],
      "text/plain": [
       "              business_id  stars  Prediction\n",
       "0  1SWheh84yJXfytovILXOAQ    3.0    3.052763\n",
       "1  QXAEGFB4oINsVuTFxEYKFQ    2.5    2.299343\n",
       "2  gnKjwL_1w79qoiV3IC_xQQ    4.0    3.060994\n",
       "3  xvX2CttrVhyG2z1dFg_0xw    5.0    3.402871\n",
       "4  HhyxOkGAM07SRYtlQ4wMFQ    4.0    4.193530"
      ]
     },
     "execution_count": 32,
     "metadata": {},
     "output_type": "execute_result"
    }
   ],
   "source": [
    "ypred_linear_reg = pd.DataFrame({'Prediction': pd.Series(y_pred)})\n",
    "total_linear_regression = pd.concat([newmerge[['business_id','stars']][:5], ypred_linear_reg[:5]], axis=1)\n",
    "total_linear_regression"
   ]
  },
  {
   "cell_type": "markdown",
   "metadata": {},
   "source": [
    "## Plotting regression model"
   ]
  },
  {
   "cell_type": "code",
   "execution_count": 33,
   "metadata": {
    "collapsed": true
   },
   "outputs": [],
   "source": [
    "def chart_regression(y_pred,y_test,sort=True):\n",
    "    t = pd.DataFrame({'pred' : y_pred, 'y' : y_test.flatten()})\n",
    "   # print(t.head())\n",
    "    if sort:\n",
    "        t.sort_values(by=['y'],inplace=True)\n",
    "    a = plt.plot(t['y'].tolist(),label='expected')\n",
    "    b = plt.plot(t['pred'].tolist(),label='prediction')\n",
    "    plt.ylabel('output')\n",
    "    plt.legend()\n",
    "    plt.show()"
   ]
  },
  {
   "cell_type": "code",
   "execution_count": 34,
   "metadata": {},
   "outputs": [
    {
     "data": {
      "image/png": "[encoded data removed]",
      "text/plain": [
       "<matplotlib.figure.Figure at 0x1a1ed32ef0>"
      ]
     },
     "metadata": {},
     "output_type": "display_data"
    }
   ],
   "source": [
    "chart_regression(y_pred[:20].flatten(),y_test[:20],sort=True)"
   ]
  },
  {
   "cell_type": "markdown",
   "metadata": {
    "collapsed": true
   },
   "source": [
    "# Logistic Regression"
   ]
  },
  {
   "cell_type": "code",
   "execution_count": 35,
   "metadata": {
    "collapsed": true
   },
   "outputs": [],
   "source": [
    "logreg = LogisticRegression()"
   ]
  },
  {
   "cell_type": "code",
   "execution_count": 36,
   "metadata": {},
   "outputs": [
    {
     "name": "stdout",
     "output_type": "stream",
     "text": [
      "continuous\n"
     ]
    }
   ],
   "source": [
    "type(y_train)\n",
    "print(utils.multiclass.type_of_target(y_train))"
   ]
  },
  {
   "cell_type": "markdown",
   "metadata": {},
   "source": [
    "### use lable encoding since y is continuous data"
   ]
  },
  {
   "cell_type": "code",
   "execution_count": 37,
   "metadata": {
    "collapsed": true
   },
   "outputs": [],
   "source": [
    "\n",
    "labelencoder = LabelEncoder()\n"
   ]
  },
  {
   "cell_type": "code",
   "execution_count": 38,
   "metadata": {
    "collapsed": true
   },
   "outputs": [],
   "source": [
    "stars = newmerge.values"
   ]
  },
  {
   "cell_type": "code",
   "execution_count": 39,
   "metadata": {},
   "outputs": [
    {
     "data": {
      "text/html": [
       "<div>\n",
       "<style>\n",
       "    .dataframe thead tr:only-child th {\n",
       "        text-align: right;\n",
       "    }\n",
       "\n",
       "    .dataframe thead th {\n",
       "        text-align: left;\n",
       "    }\n",
       "\n",
       "    .dataframe tbody tr th {\n",
       "        vertical-align: top;\n",
       "    }\n",
       "</style>\n",
       "<table border=\"1\" class=\"dataframe\">\n",
       "  <thead>\n",
       "    <tr style=\"text-align: right;\">\n",
       "      <th></th>\n",
       "      <th>0</th>\n",
       "      <th>1</th>\n",
       "      <th>2</th>\n",
       "      <th>3</th>\n",
       "    </tr>\n",
       "  </thead>\n",
       "  <tbody>\n",
       "    <tr>\n",
       "      <th>0</th>\n",
       "      <td>1SWheh84yJXfytovILXOAQ</td>\n",
       "      <td>5</td>\n",
       "      <td>4</td>\n",
       "      <td>b\"Don't go here if you expect consistent or re...</td>\n",
       "    </tr>\n",
       "    <tr>\n",
       "      <th>1</th>\n",
       "      <td>QXAEGFB4oINsVuTFxEYKFQ</td>\n",
       "      <td>128</td>\n",
       "      <td>3</td>\n",
       "      <td>b'My girlfriend and I went for dinner at Emera...</td>\n",
       "    </tr>\n",
       "    <tr>\n",
       "      <th>2</th>\n",
       "      <td>gnKjwL_1w79qoiV3IC_xQQ</td>\n",
       "      <td>170</td>\n",
       "      <td>6</td>\n",
       "      <td>b'Husband was craving Chicken Teriyaki &amp; gyoza...</td>\n",
       "    </tr>\n",
       "    <tr>\n",
       "      <th>3</th>\n",
       "      <td>xvX2CttrVhyG2z1dFg_0xw</td>\n",
       "      <td>3</td>\n",
       "      <td>8</td>\n",
       "      <td>b'The associates at this agency are absolutely...</td>\n",
       "    </tr>\n",
       "    <tr>\n",
       "      <th>4</th>\n",
       "      <td>HhyxOkGAM07SRYtlQ4wMFQ</td>\n",
       "      <td>4</td>\n",
       "      <td>6</td>\n",
       "      <td>b\"Great customer service and great job every t...</td>\n",
       "    </tr>\n",
       "  </tbody>\n",
       "</table>\n",
       "</div>"
      ],
      "text/plain": [
       "                        0    1  2  \\\n",
       "0  1SWheh84yJXfytovILXOAQ    5  4   \n",
       "1  QXAEGFB4oINsVuTFxEYKFQ  128  3   \n",
       "2  gnKjwL_1w79qoiV3IC_xQQ  170  6   \n",
       "3  xvX2CttrVhyG2z1dFg_0xw    3  8   \n",
       "4  HhyxOkGAM07SRYtlQ4wMFQ    4  6   \n",
       "\n",
       "                                                   3  \n",
       "0  b\"Don't go here if you expect consistent or re...  \n",
       "1  b'My girlfriend and I went for dinner at Emera...  \n",
       "2  b'Husband was craving Chicken Teriyaki & gyoza...  \n",
       "3  b'The associates at this agency are absolutely...  \n",
       "4  b\"Great customer service and great job every t...  "
      ]
     },
     "execution_count": 39,
     "metadata": {},
     "output_type": "execute_result"
    }
   ],
   "source": [
    "stars[:, 2] = labelencoder.fit_transform(stars[:, 2])\n",
    "\n",
    "review_merge_LR = pd.DataFrame(stars)\n",
    "review_merge_LR.head()\n"
   ]
  },
  {
   "cell_type": "code",
   "execution_count": 40,
   "metadata": {},
   "outputs": [
    {
     "data": {
      "text/plain": [
       "array([4, 3, 6, ..., 7, 7, 6], dtype=object)"
      ]
     },
     "execution_count": 40,
     "metadata": {},
     "output_type": "execute_result"
    }
   ],
   "source": [
    "review_stars_LR = review_merge_LR[2].values\n",
    "review_stars_LR"
   ]
  },
  {
   "cell_type": "code",
   "execution_count": 41,
   "metadata": {
    "collapsed": true
   },
   "outputs": [],
   "source": [
    "review_stars_LR = review_stars_LR.astype('int')"
   ]
  },
  {
   "cell_type": "markdown",
   "metadata": {},
   "source": [
    "### Spliting data to training and test data"
   ]
  },
  {
   "cell_type": "code",
   "execution_count": 42,
   "metadata": {
    "collapsed": true
   },
   "outputs": [],
   "source": [
    "x_train,x_test,y_train1,y_test1 = train_test_split(review_arr[:5000],review_stars_LR[:5000], test_size=0.2,random_state=42)"
   ]
  },
  {
   "cell_type": "code",
   "execution_count": 43,
   "metadata": {},
   "outputs": [
    {
     "data": {
      "text/plain": [
       "LogisticRegression(C=1.0, class_weight=None, dual=False, fit_intercept=True,\n",
       "          intercept_scaling=1, max_iter=100, multi_class='ovr', n_jobs=1,\n",
       "          penalty='l2', random_state=None, solver='liblinear', tol=0.0001,\n",
       "          verbose=0, warm_start=False)"
      ]
     },
     "execution_count": 43,
     "metadata": {},
     "output_type": "execute_result"
    }
   ],
   "source": [
    "logreg.fit(x_train, y_train1)"
   ]
  },
  {
   "cell_type": "code",
   "execution_count": 162,
   "metadata": {},
   "outputs": [
    {
     "data": {
      "text/plain": [
       "array([5, 3, 5, 5, 8, 5, 6, 8, 6, 7, 5, 5, 4, 5, 5, 4, 6, 8, 6, 4, 5, 7, 8,\n",
       "       8, 8, 4, 6, 4, 4, 7, 5, 6, 6, 5, 5, 6, 5, 4, 5, 5, 8, 4, 5, 8, 8, 5,\n",
       "       7, 6, 8, 4, 5, 6, 5, 8, 7, 6, 8, 5, 8, 5, 5, 8, 5, 2, 6, 6, 4, 6, 8,\n",
       "       6, 7, 7, 5, 8, 4, 8, 8, 8, 6, 5, 8, 3, 5, 5, 5, 6, 3, 6, 5, 8, 6, 6,\n",
       "       6, 6, 7, 6, 6, 7, 8, 7, 8, 3, 5, 5, 6, 6, 3, 8, 5, 7, 4, 4, 6, 5, 8,\n",
       "       4, 5, 8, 7, 3, 8, 6, 5, 5, 7, 8, 7, 4, 8, 8, 8, 8, 4, 4, 8, 4, 8, 5,\n",
       "       8, 8, 8, 5, 5, 5, 4, 6, 5, 7, 6, 7, 8, 8, 5, 6, 6, 8, 2, 7, 7, 8, 6,\n",
       "       6, 6, 5, 3, 6, 5, 4, 6, 4, 3, 5, 4, 5, 8, 5, 8, 7, 8, 6, 5, 4, 6, 7,\n",
       "       6, 6, 8, 7, 5, 5, 6, 3, 6, 5, 4, 8, 8, 8, 7, 4, 5, 7, 5, 3, 6, 5, 8,\n",
       "       3, 5, 5, 8, 7, 8, 5, 6, 5, 6, 7, 8, 4, 5, 6, 3, 7, 5, 5, 8, 6, 6, 2,\n",
       "       4, 7, 8, 5, 8, 3, 8, 8, 5, 0, 4, 5, 5, 5, 5, 2, 6, 5, 3, 5, 5, 5, 8,\n",
       "       5, 5, 4, 4, 8, 5, 8, 3, 7, 5, 7, 8, 7, 6, 3, 8, 5, 6, 6, 4, 7, 6, 4,\n",
       "       6, 4, 7, 8, 7, 7, 8, 4, 5, 3, 8, 8, 5, 5, 8, 6, 8, 5, 7, 8, 7, 6, 7,\n",
       "       5, 8, 8, 6, 4, 4, 5, 5, 5, 8, 8, 6, 6, 5, 6, 8, 3, 6, 8, 4, 4, 7, 8,\n",
       "       5, 8, 3, 5, 6, 6, 8, 6, 8, 5, 7, 6, 4, 8, 7, 8, 5, 5, 5, 5, 3, 6, 8,\n",
       "       8, 8, 5, 5, 6, 3, 6, 6, 7, 5, 4, 4, 5, 3, 4, 5, 8, 4, 8, 3, 8, 5, 2,\n",
       "       7, 8, 8, 6, 4, 6, 8, 5, 6, 5, 4, 4, 5, 6, 8, 6, 8, 8, 8, 5, 6, 5, 8,\n",
       "       7, 8, 8, 4, 5, 5, 5, 6, 5, 5, 6, 8, 3, 7, 4, 5, 6, 3, 6, 5, 3, 6, 5,\n",
       "       5, 6, 5, 7, 3, 8, 5, 3, 6, 6, 4, 4, 5, 6, 5, 5, 6, 3, 4, 5, 8, 6, 8,\n",
       "       5, 4, 7, 6, 6, 5, 5, 4, 6, 8, 3, 6, 6, 6, 4, 3, 6, 8, 8, 8, 6, 3, 8,\n",
       "       5, 4, 3, 3, 5, 8, 7, 6, 4, 7, 6, 6, 4, 4, 7, 5, 5, 5, 6, 5, 8, 8, 4,\n",
       "       4, 3, 8, 6, 6, 5, 3, 6, 4, 6, 4, 6, 6, 5, 5, 6, 3, 8, 6, 5, 6, 7, 7,\n",
       "       8, 5, 7, 4, 5, 5, 6, 5, 4, 8, 5, 5, 0, 3, 6, 5, 8, 4, 4, 8, 7, 4, 7,\n",
       "       8, 7, 2, 8, 8, 5, 3, 6, 4, 6, 5, 4, 5, 6, 7, 6, 8, 6, 8, 5, 5, 6, 3,\n",
       "       4, 6, 0, 6, 6, 4, 6, 8, 8, 8, 5, 5, 6, 4, 8, 4, 5, 6, 4, 5, 8, 6, 8,\n",
       "       7, 3, 4, 5, 8, 6, 8, 4, 8, 8, 7, 5, 4, 4, 6, 7, 8, 4, 6, 4, 6, 5, 8,\n",
       "       5, 8, 4, 6, 7, 4, 5, 5, 4, 8, 5, 6, 5, 6, 6, 6, 8, 5, 8, 5, 5, 5, 6,\n",
       "       6, 8, 8, 6, 4, 4, 8, 7, 8, 5, 4, 4, 6, 8, 8, 3, 6, 5, 5, 8, 7, 3, 5,\n",
       "       4, 7, 8, 2, 4, 5, 8, 3, 4, 6, 5, 4, 4, 6, 2, 3, 7, 8, 5, 7, 5, 8, 4,\n",
       "       6, 3, 4, 3, 8, 5, 6, 4, 7, 8, 8, 5, 5, 8, 6, 6, 4, 5, 4, 5, 4, 6, 5,\n",
       "       8, 7, 4, 8, 7, 5, 3, 4, 7, 8, 7, 6, 4, 6, 5, 7, 4, 5, 4, 5, 8, 8, 4,\n",
       "       8, 6, 4, 4, 8, 4, 6, 8, 6, 5, 8, 7, 8, 6, 5, 5, 4, 5, 5, 5, 6, 5, 8,\n",
       "       8, 8, 5, 8, 5, 8, 4, 8, 5, 6, 4, 5, 6, 5, 6, 6, 7, 6, 6, 4, 6, 5, 8,\n",
       "       8, 5, 3, 4, 5, 6, 5, 6, 6, 8, 7, 5, 6, 8, 8, 6, 6, 7, 8, 5, 6, 7, 6,\n",
       "       8, 6, 4, 8, 7, 8, 4, 5, 5, 3, 6, 7, 8, 4, 5, 3, 5, 8, 5, 8, 5, 6, 6,\n",
       "       6, 3, 7, 5, 7, 5, 5, 6, 8, 8, 8, 7, 8, 6, 7, 8, 6, 6, 3, 5, 4, 4, 6,\n",
       "       3, 5, 7, 5, 7, 5, 6, 8, 6, 5, 5, 8, 3, 6, 6, 8, 6, 5, 6, 5, 7, 5, 5,\n",
       "       4, 8, 6, 5, 8, 7, 8, 4, 5, 6, 5, 5, 8, 8, 3, 3, 8, 7, 5, 5, 5, 4, 5,\n",
       "       5, 5, 5, 4, 6, 3, 5, 5, 5, 6, 8, 8, 8, 7, 3, 8, 6, 6, 5, 4, 5, 3, 6,\n",
       "       8, 7, 5, 8, 5, 6, 8, 5, 8, 5, 7, 6, 6, 5, 8, 6, 6, 8, 6, 6, 7, 5, 7,\n",
       "       5, 6, 8, 3, 8, 8, 7, 4, 6, 8, 8, 2, 5, 3, 5, 5, 5, 6, 4, 6, 5, 8, 4,\n",
       "       5, 8, 6, 5, 5, 5, 4, 3, 6, 5, 6, 3, 8, 5, 8, 5, 5, 8, 8, 5, 5, 8, 5,\n",
       "       5, 3, 7, 3, 5, 6, 5, 4, 8, 8, 5, 6, 8, 4, 4, 8, 8, 7, 5, 8, 4, 8, 5,\n",
       "       5, 4, 6, 5, 6, 6, 8, 6, 8, 8, 8])"
      ]
     },
     "execution_count": 162,
     "metadata": {},
     "output_type": "execute_result"
    }
   ],
   "source": [
    "y_pred_LR=logreg.predict(x_test)\n",
    "y_pred_LR"
   ]
  },
  {
   "cell_type": "markdown",
   "metadata": {},
   "source": [
    "### decoding the values"
   ]
  },
  {
   "cell_type": "code",
   "execution_count": 45,
   "metadata": {},
   "outputs": [
    {
     "data": {
      "text/plain": [
       "array([3.5, 2.5, 3.5, 3.5, 5.0, 3.5, 4.0, 5.0, 4.0, 4.5], dtype=object)"
      ]
     },
     "execution_count": 45,
     "metadata": {},
     "output_type": "execute_result"
    }
   ],
   "source": [
    "decode_y = (labelencoder.inverse_transform(y_pred_LR)[:10])\n",
    "decode_y"
   ]
  },
  {
   "cell_type": "code",
   "execution_count": 46,
   "metadata": {},
   "outputs": [
    {
     "data": {
      "text/html": [
       "<style  type=\"text/css\" >\n",
       "</style>  \n",
       "<table id=\"T_910dfe28_2fd9_11e9_830c_6a00033ad4e0\" > \n",
       "<thead>    <tr> \n",
       "        <th class=\"blank level0\" ></th> \n",
       "        <th class=\"col_heading level0 col0\" >business_id</th> \n",
       "        <th class=\"col_heading level0 col1\" >stars</th> \n",
       "        <th class=\"col_heading level0 col2\" >Prediction</th> \n",
       "    </tr></thead> \n",
       "<tbody>    <tr> \n",
       "        <th id=\"T_910dfe28_2fd9_11e9_830c_6a00033ad4e0level0_row0\" class=\"row_heading level0 row0\" >0</th> \n",
       "        <td id=\"T_910dfe28_2fd9_11e9_830c_6a00033ad4e0row0_col0\" class=\"data row0 col0\" >1SWheh84yJXfytovILXOAQ</td> \n",
       "        <td id=\"T_910dfe28_2fd9_11e9_830c_6a00033ad4e0row0_col1\" class=\"data row0 col1\" >3</td> \n",
       "        <td id=\"T_910dfe28_2fd9_11e9_830c_6a00033ad4e0row0_col2\" class=\"data row0 col2\" >3.5</td> \n",
       "    </tr>    <tr> \n",
       "        <th id=\"T_910dfe28_2fd9_11e9_830c_6a00033ad4e0level0_row1\" class=\"row_heading level0 row1\" >1</th> \n",
       "        <td id=\"T_910dfe28_2fd9_11e9_830c_6a00033ad4e0row1_col0\" class=\"data row1 col0\" >QXAEGFB4oINsVuTFxEYKFQ</td> \n",
       "        <td id=\"T_910dfe28_2fd9_11e9_830c_6a00033ad4e0row1_col1\" class=\"data row1 col1\" >2.5</td> \n",
       "        <td id=\"T_910dfe28_2fd9_11e9_830c_6a00033ad4e0row1_col2\" class=\"data row1 col2\" >2.5</td> \n",
       "    </tr>    <tr> \n",
       "        <th id=\"T_910dfe28_2fd9_11e9_830c_6a00033ad4e0level0_row2\" class=\"row_heading level0 row2\" >2</th> \n",
       "        <td id=\"T_910dfe28_2fd9_11e9_830c_6a00033ad4e0row2_col0\" class=\"data row2 col0\" >gnKjwL_1w79qoiV3IC_xQQ</td> \n",
       "        <td id=\"T_910dfe28_2fd9_11e9_830c_6a00033ad4e0row2_col1\" class=\"data row2 col1\" >4</td> \n",
       "        <td id=\"T_910dfe28_2fd9_11e9_830c_6a00033ad4e0row2_col2\" class=\"data row2 col2\" >3.5</td> \n",
       "    </tr>    <tr> \n",
       "        <th id=\"T_910dfe28_2fd9_11e9_830c_6a00033ad4e0level0_row3\" class=\"row_heading level0 row3\" >3</th> \n",
       "        <td id=\"T_910dfe28_2fd9_11e9_830c_6a00033ad4e0row3_col0\" class=\"data row3 col0\" >xvX2CttrVhyG2z1dFg_0xw</td> \n",
       "        <td id=\"T_910dfe28_2fd9_11e9_830c_6a00033ad4e0row3_col1\" class=\"data row3 col1\" >5</td> \n",
       "        <td id=\"T_910dfe28_2fd9_11e9_830c_6a00033ad4e0row3_col2\" class=\"data row3 col2\" >3.5</td> \n",
       "    </tr>    <tr> \n",
       "        <th id=\"T_910dfe28_2fd9_11e9_830c_6a00033ad4e0level0_row4\" class=\"row_heading level0 row4\" >4</th> \n",
       "        <td id=\"T_910dfe28_2fd9_11e9_830c_6a00033ad4e0row4_col0\" class=\"data row4 col0\" >HhyxOkGAM07SRYtlQ4wMFQ</td> \n",
       "        <td id=\"T_910dfe28_2fd9_11e9_830c_6a00033ad4e0row4_col1\" class=\"data row4 col1\" >4</td> \n",
       "        <td id=\"T_910dfe28_2fd9_11e9_830c_6a00033ad4e0row4_col2\" class=\"data row4 col2\" >5</td> \n",
       "    </tr></tbody> \n",
       "</table> "
      ],
      "text/plain": [
       "<pandas.io.formats.style.Styler at 0x1a1a9d1710>"
      ]
     },
     "execution_count": 46,
     "metadata": {},
     "output_type": "execute_result"
    }
   ],
   "source": [
    "ypred_log = pd.DataFrame({'Prediction': pd.Series(decode_y)})\n",
    "df_total_new = pd.concat([newmerge[['business_id','stars']][:5], ypred_log[:5]], axis=1)\n",
    "df_total_new.style"
   ]
  },
  {
   "cell_type": "code",
   "execution_count": 47,
   "metadata": {},
   "outputs": [
    {
     "name": "stdout",
     "output_type": "stream",
     "text": [
      "Evaluating with F1 score metric: 0.35\n"
     ]
    }
   ],
   "source": [
    "print('Evaluating with F1 score metric: %.2f' % f1_score(y_test1, y_pred_LR,average='micro'))"
   ]
  },
  {
   "cell_type": "code",
   "execution_count": 48,
   "metadata": {},
   "outputs": [
    {
     "data": {
      "image/png": "[encoded data removed]",
      "text/plain": [
       "<matplotlib.figure.Figure at 0x1a12fe9748>"
      ]
     },
     "metadata": {},
     "output_type": "display_data"
    }
   ],
   "source": [
    "#plt.scatter(y_test1,y_pred_LR)\n",
    "chart_regression(y_pred_LR[:20].flatten(),y_test1[:20],sort=True)"
   ]
  },
  {
   "cell_type": "markdown",
   "metadata": {},
   "source": [
    "# Nearest Neighbor KNN"
   ]
  },
  {
   "cell_type": "code",
   "execution_count": 49,
   "metadata": {
    "collapsed": true
   },
   "outputs": [],
   "source": [
    "knn = KNeighborsClassifier(n_neighbors=10)"
   ]
  },
  {
   "cell_type": "code",
   "execution_count": 50,
   "metadata": {},
   "outputs": [
    {
     "name": "stdout",
     "output_type": "stream",
     "text": [
      "KNeighborsClassifier(algorithm='auto', leaf_size=30, metric='minkowski',\n",
      "           metric_params=None, n_jobs=1, n_neighbors=10, p=2,\n",
      "           weights='uniform')\n"
     ]
    }
   ],
   "source": [
    "print(knn)"
   ]
  },
  {
   "cell_type": "code",
   "execution_count": 51,
   "metadata": {},
   "outputs": [
    {
     "data": {
      "text/plain": [
       "KNeighborsClassifier(algorithm='auto', leaf_size=30, metric='minkowski',\n",
       "           metric_params=None, n_jobs=1, n_neighbors=10, p=2,\n",
       "           weights='uniform')"
      ]
     },
     "execution_count": 51,
     "metadata": {},
     "output_type": "execute_result"
    }
   ],
   "source": [
    "knn.fit(x_train, y_train1)"
   ]
  },
  {
   "cell_type": "code",
   "execution_count": 52,
   "metadata": {
    "collapsed": true
   },
   "outputs": [],
   "source": [
    "y_pred_knn = knn.predict(x_test)"
   ]
  },
  {
   "cell_type": "code",
   "execution_count": 53,
   "metadata": {},
   "outputs": [
    {
     "data": {
      "text/plain": [
       "array([3.5, 4.0, 3.5, 3.5, 4.0, 4.0, 2.5, 5.0, 3.5, 2.0], dtype=object)"
      ]
     },
     "execution_count": 53,
     "metadata": {},
     "output_type": "execute_result"
    }
   ],
   "source": [
    "decode_y_knn = (labelencoder.inverse_transform(y_pred_knn)[:10])\n",
    "decode_y_knn"
   ]
  },
  {
   "cell_type": "code",
   "execution_count": 54,
   "metadata": {},
   "outputs": [
    {
     "data": {
      "text/html": [
       "<div>\n",
       "<style>\n",
       "    .dataframe thead tr:only-child th {\n",
       "        text-align: right;\n",
       "    }\n",
       "\n",
       "    .dataframe thead th {\n",
       "        text-align: left;\n",
       "    }\n",
       "\n",
       "    .dataframe tbody tr th {\n",
       "        vertical-align: top;\n",
       "    }\n",
       "</style>\n",
       "<table border=\"1\" class=\"dataframe\">\n",
       "  <thead>\n",
       "    <tr style=\"text-align: right;\">\n",
       "      <th></th>\n",
       "      <th>business_id</th>\n",
       "      <th>stars</th>\n",
       "      <th>Prediction</th>\n",
       "    </tr>\n",
       "  </thead>\n",
       "  <tbody>\n",
       "    <tr>\n",
       "      <th>0</th>\n",
       "      <td>1SWheh84yJXfytovILXOAQ</td>\n",
       "      <td>3.0</td>\n",
       "      <td>3.5</td>\n",
       "    </tr>\n",
       "    <tr>\n",
       "      <th>1</th>\n",
       "      <td>QXAEGFB4oINsVuTFxEYKFQ</td>\n",
       "      <td>2.5</td>\n",
       "      <td>4</td>\n",
       "    </tr>\n",
       "    <tr>\n",
       "      <th>2</th>\n",
       "      <td>gnKjwL_1w79qoiV3IC_xQQ</td>\n",
       "      <td>4.0</td>\n",
       "      <td>3.5</td>\n",
       "    </tr>\n",
       "    <tr>\n",
       "      <th>3</th>\n",
       "      <td>xvX2CttrVhyG2z1dFg_0xw</td>\n",
       "      <td>5.0</td>\n",
       "      <td>3.5</td>\n",
       "    </tr>\n",
       "    <tr>\n",
       "      <th>4</th>\n",
       "      <td>HhyxOkGAM07SRYtlQ4wMFQ</td>\n",
       "      <td>4.0</td>\n",
       "      <td>4</td>\n",
       "    </tr>\n",
       "    <tr>\n",
       "      <th>5</th>\n",
       "      <td>68dUKd8_8liJ7in4aWOSEA</td>\n",
       "      <td>2.5</td>\n",
       "      <td>4</td>\n",
       "    </tr>\n",
       "    <tr>\n",
       "      <th>6</th>\n",
       "      <td>5JucpCfHZltJh5r1JabjDg</td>\n",
       "      <td>3.5</td>\n",
       "      <td>2.5</td>\n",
       "    </tr>\n",
       "    <tr>\n",
       "      <th>7</th>\n",
       "      <td>gbQN7vr_caG_A1ugSmGhWg</td>\n",
       "      <td>3.5</td>\n",
       "      <td>5</td>\n",
       "    </tr>\n",
       "    <tr>\n",
       "      <th>8</th>\n",
       "      <td>Y6iyemLX_oylRpnr38vgMA</td>\n",
       "      <td>5.0</td>\n",
       "      <td>3.5</td>\n",
       "    </tr>\n",
       "    <tr>\n",
       "      <th>9</th>\n",
       "      <td>4GBVPIYRvzGh4K4TkRQ_rw</td>\n",
       "      <td>4.5</td>\n",
       "      <td>2</td>\n",
       "    </tr>\n",
       "  </tbody>\n",
       "</table>\n",
       "</div>"
      ],
      "text/plain": [
       "              business_id  stars Prediction\n",
       "0  1SWheh84yJXfytovILXOAQ    3.0        3.5\n",
       "1  QXAEGFB4oINsVuTFxEYKFQ    2.5          4\n",
       "2  gnKjwL_1w79qoiV3IC_xQQ    4.0        3.5\n",
       "3  xvX2CttrVhyG2z1dFg_0xw    5.0        3.5\n",
       "4  HhyxOkGAM07SRYtlQ4wMFQ    4.0          4\n",
       "5  68dUKd8_8liJ7in4aWOSEA    2.5          4\n",
       "6  5JucpCfHZltJh5r1JabjDg    3.5        2.5\n",
       "7  gbQN7vr_caG_A1ugSmGhWg    3.5          5\n",
       "8  Y6iyemLX_oylRpnr38vgMA    5.0        3.5\n",
       "9  4GBVPIYRvzGh4K4TkRQ_rw    4.5          2"
      ]
     },
     "execution_count": 54,
     "metadata": {},
     "output_type": "execute_result"
    }
   ],
   "source": [
    "ypred_knn = pd.DataFrame({'Prediction': pd.Series(decode_y_knn)})\n",
    "df_knn = pd.concat([newmerge[['business_id','stars']][:10], ypred_knn[:10]], axis=1)\n",
    "df_knn"
   ]
  },
  {
   "cell_type": "code",
   "execution_count": 55,
   "metadata": {},
   "outputs": [
    {
     "name": "stdout",
     "output_type": "stream",
     "text": [
      "Evaluating with F1 score metric: 0.27\n"
     ]
    }
   ],
   "source": [
    "print('Evaluating with F1 score metric: %.2f' % f1_score(y_test1, y_pred_knn,average='micro'))"
   ]
  },
  {
   "cell_type": "code",
   "execution_count": 56,
   "metadata": {},
   "outputs": [
    {
     "data": {
      "image/png": "[encoded data removed]",
      "text/plain": [
       "<matplotlib.figure.Figure at 0x1a1a00ac18>"
      ]
     },
     "metadata": {},
     "output_type": "display_data"
    }
   ],
   "source": [
    "#plt.scatter(y_test1,y_pred_knn)\n",
    "chart_regression(y_pred[:20].flatten(),y_test1[:20],sort=True)"
   ]
  },
  {
   "cell_type": "markdown",
   "metadata": {},
   "source": [
    "# Support Vector Machine"
   ]
  },
  {
   "cell_type": "code",
   "execution_count": 57,
   "metadata": {
    "collapsed": true
   },
   "outputs": [],
   "source": [
    "model = svm.SVC() "
   ]
  },
  {
   "cell_type": "code",
   "execution_count": 58,
   "metadata": {},
   "outputs": [
    {
     "data": {
      "text/plain": [
       "SVC(C=1.0, cache_size=200, class_weight=None, coef0=0.0,\n",
       "  decision_function_shape='ovr', degree=3, gamma='auto', kernel='rbf',\n",
       "  max_iter=-1, probability=False, random_state=None, shrinking=True,\n",
       "  tol=0.001, verbose=False)"
      ]
     },
     "execution_count": 58,
     "metadata": {},
     "output_type": "execute_result"
    }
   ],
   "source": [
    "model.fit(x_train, y_train1)\n"
   ]
  },
  {
   "cell_type": "code",
   "execution_count": 59,
   "metadata": {
    "collapsed": true
   },
   "outputs": [],
   "source": [
    "y_pred_SVM = model.predict(x_test)"
   ]
  },
  {
   "cell_type": "code",
   "execution_count": 60,
   "metadata": {},
   "outputs": [
    {
     "data": {
      "text/html": [
       "<div>\n",
       "<style>\n",
       "    .dataframe thead tr:only-child th {\n",
       "        text-align: right;\n",
       "    }\n",
       "\n",
       "    .dataframe thead th {\n",
       "        text-align: left;\n",
       "    }\n",
       "\n",
       "    .dataframe tbody tr th {\n",
       "        vertical-align: top;\n",
       "    }\n",
       "</style>\n",
       "<table border=\"1\" class=\"dataframe\">\n",
       "  <thead>\n",
       "    <tr style=\"text-align: right;\">\n",
       "      <th></th>\n",
       "      <th>business_id</th>\n",
       "      <th>stars</th>\n",
       "      <th>Prediction</th>\n",
       "    </tr>\n",
       "  </thead>\n",
       "  <tbody>\n",
       "    <tr>\n",
       "      <th>0</th>\n",
       "      <td>1SWheh84yJXfytovILXOAQ</td>\n",
       "      <td>3.0</td>\n",
       "      <td>5</td>\n",
       "    </tr>\n",
       "    <tr>\n",
       "      <th>1</th>\n",
       "      <td>QXAEGFB4oINsVuTFxEYKFQ</td>\n",
       "      <td>2.5</td>\n",
       "      <td>5</td>\n",
       "    </tr>\n",
       "    <tr>\n",
       "      <th>2</th>\n",
       "      <td>gnKjwL_1w79qoiV3IC_xQQ</td>\n",
       "      <td>4.0</td>\n",
       "      <td>5</td>\n",
       "    </tr>\n",
       "    <tr>\n",
       "      <th>3</th>\n",
       "      <td>xvX2CttrVhyG2z1dFg_0xw</td>\n",
       "      <td>5.0</td>\n",
       "      <td>5</td>\n",
       "    </tr>\n",
       "    <tr>\n",
       "      <th>4</th>\n",
       "      <td>HhyxOkGAM07SRYtlQ4wMFQ</td>\n",
       "      <td>4.0</td>\n",
       "      <td>5</td>\n",
       "    </tr>\n",
       "  </tbody>\n",
       "</table>\n",
       "</div>"
      ],
      "text/plain": [
       "              business_id  stars  Prediction\n",
       "0  1SWheh84yJXfytovILXOAQ    3.0           5\n",
       "1  QXAEGFB4oINsVuTFxEYKFQ    2.5           5\n",
       "2  gnKjwL_1w79qoiV3IC_xQQ    4.0           5\n",
       "3  xvX2CttrVhyG2z1dFg_0xw    5.0           5\n",
       "4  HhyxOkGAM07SRYtlQ4wMFQ    4.0           5"
      ]
     },
     "execution_count": 60,
     "metadata": {},
     "output_type": "execute_result"
    }
   ],
   "source": [
    "ypred_svm = pd.DataFrame({'Prediction': pd.Series(y_pred_SVM)})\n",
    "ypred_svm = pd.concat([newmerge[['business_id','stars']][:5], ypred_svm[:5]], axis=1)\n",
    "ypred_svm"
   ]
  },
  {
   "cell_type": "code",
   "execution_count": 61,
   "metadata": {},
   "outputs": [
    {
     "name": "stdout",
     "output_type": "stream",
     "text": [
      "Evaluating with F1 score metric: 0.19\n"
     ]
    }
   ],
   "source": [
    "print('Evaluating with F1 score metric: %.2f' % f1_score(y_test1, y_pred_SVM, average='micro'))"
   ]
  },
  {
   "cell_type": "code",
   "execution_count": 62,
   "metadata": {},
   "outputs": [
    {
     "data": {
      "image/png": "[encoded data removed]",
      "text/plain": [
       "<matplotlib.figure.Figure at 0x1a1a467588>"
      ]
     },
     "metadata": {},
     "output_type": "display_data"
    }
   ],
   "source": [
    "chart_regression(y_pred_SVM.flatten(),y_test1,sort=True)"
   ]
  },
  {
   "cell_type": "markdown",
   "metadata": {},
   "source": [
    "# Multinomial Naive Bayes"
   ]
  },
  {
   "cell_type": "code",
   "execution_count": 63,
   "metadata": {
    "collapsed": true
   },
   "outputs": [],
   "source": [
    "nb = MultinomialNB()"
   ]
  },
  {
   "cell_type": "code",
   "execution_count": 64,
   "metadata": {
    "collapsed": true
   },
   "outputs": [],
   "source": [
    " scaler_mat = MinMaxScaler()"
   ]
  },
  {
   "cell_type": "code",
   "execution_count": 65,
   "metadata": {
    "collapsed": true
   },
   "outputs": [],
   "source": [
    "r_min_max = scaler_mat.fit_transform(review_arr)"
   ]
  },
  {
   "cell_type": "code",
   "execution_count": 66,
   "metadata": {
    "collapsed": true
   },
   "outputs": [],
   "source": [
    "x_train1,x_test1,y_train1,y_test1 = train_test_split(r_min_max[:5000],review_stars_LR[:5000], test_size=0.2,random_state=42)"
   ]
  },
  {
   "cell_type": "code",
   "execution_count": 67,
   "metadata": {},
   "outputs": [
    {
     "data": {
      "text/plain": [
       "MultinomialNB(alpha=1.0, class_prior=None, fit_prior=True)"
      ]
     },
     "execution_count": 67,
     "metadata": {},
     "output_type": "execute_result"
    }
   ],
   "source": [
    "nb.fit(x_train1,y_train1)"
   ]
  },
  {
   "cell_type": "code",
   "execution_count": 68,
   "metadata": {
    "collapsed": true
   },
   "outputs": [],
   "source": [
    "y_predict_nb = nb.predict(x_test1)"
   ]
  },
  {
   "cell_type": "code",
   "execution_count": 69,
   "metadata": {},
   "outputs": [
    {
     "data": {
      "text/html": [
       "<div>\n",
       "<style>\n",
       "    .dataframe thead tr:only-child th {\n",
       "        text-align: right;\n",
       "    }\n",
       "\n",
       "    .dataframe thead th {\n",
       "        text-align: left;\n",
       "    }\n",
       "\n",
       "    .dataframe tbody tr th {\n",
       "        vertical-align: top;\n",
       "    }\n",
       "</style>\n",
       "<table border=\"1\" class=\"dataframe\">\n",
       "  <thead>\n",
       "    <tr style=\"text-align: right;\">\n",
       "      <th></th>\n",
       "      <th>business_id</th>\n",
       "      <th>stars</th>\n",
       "      <th>Prediction</th>\n",
       "    </tr>\n",
       "  </thead>\n",
       "  <tbody>\n",
       "    <tr>\n",
       "      <th>0</th>\n",
       "      <td>1SWheh84yJXfytovILXOAQ</td>\n",
       "      <td>3.0</td>\n",
       "      <td>2.5</td>\n",
       "    </tr>\n",
       "    <tr>\n",
       "      <th>1</th>\n",
       "      <td>QXAEGFB4oINsVuTFxEYKFQ</td>\n",
       "      <td>2.5</td>\n",
       "      <td>2.5</td>\n",
       "    </tr>\n",
       "    <tr>\n",
       "      <th>2</th>\n",
       "      <td>gnKjwL_1w79qoiV3IC_xQQ</td>\n",
       "      <td>4.0</td>\n",
       "      <td>3.5</td>\n",
       "    </tr>\n",
       "    <tr>\n",
       "      <th>3</th>\n",
       "      <td>xvX2CttrVhyG2z1dFg_0xw</td>\n",
       "      <td>5.0</td>\n",
       "      <td>3.5</td>\n",
       "    </tr>\n",
       "    <tr>\n",
       "      <th>4</th>\n",
       "      <td>HhyxOkGAM07SRYtlQ4wMFQ</td>\n",
       "      <td>4.0</td>\n",
       "      <td>5</td>\n",
       "    </tr>\n",
       "  </tbody>\n",
       "</table>\n",
       "</div>"
      ],
      "text/plain": [
       "              business_id  stars Prediction\n",
       "0  1SWheh84yJXfytovILXOAQ    3.0        2.5\n",
       "1  QXAEGFB4oINsVuTFxEYKFQ    2.5        2.5\n",
       "2  gnKjwL_1w79qoiV3IC_xQQ    4.0        3.5\n",
       "3  xvX2CttrVhyG2z1dFg_0xw    5.0        3.5\n",
       "4  HhyxOkGAM07SRYtlQ4wMFQ    4.0          5"
      ]
     },
     "execution_count": 69,
     "metadata": {},
     "output_type": "execute_result"
    }
   ],
   "source": [
    "decode_y = (labelencoder.inverse_transform(y_predict_nb)[:5])\n",
    "ypred_nb = pd.DataFrame({'Prediction': pd.Series(decode_y)})\n",
    "df_total_new = pd.concat([newmerge[['business_id','stars']][:5], ypred_nb[:5]], axis=1)\n",
    "df_total_new"
   ]
  },
  {
   "cell_type": "code",
   "execution_count": 70,
   "metadata": {},
   "outputs": [
    {
     "name": "stdout",
     "output_type": "stream",
     "text": [
      "Evaluating with F1 score metric: 0.31\n"
     ]
    }
   ],
   "source": [
    "print('Evaluating with F1 score metric: %.2f' % f1_score(y_test1, y_predict_nb,average='micro'))"
   ]
  },
  {
   "cell_type": "code",
   "execution_count": 71,
   "metadata": {},
   "outputs": [
    {
     "data": {
      "image/png": "[encoded data removed]",
      "text/plain": [
       "<matplotlib.figure.Figure at 0x1a192716a0>"
      ]
     },
     "metadata": {},
     "output_type": "display_data"
    }
   ],
   "source": [
    "chart_regression(y_predict_nb[:20].flatten(),y_test1[:20],sort=True)"
   ]
  },
  {
   "cell_type": "markdown",
   "metadata": {
    "collapsed": true
   },
   "source": [
    "# Extra feature"
   ]
  },
  {
   "cell_type": "code",
   "execution_count": 72,
   "metadata": {
    "collapsed": true
   },
   "outputs": [],
   "source": [
    "outfile_e = open(\"business.tsv\",'w')\n",
    "efile = csv.writer(outfile_e, delimiter =\"\\t\", quoting=csv.QUOTE_MINIMAL)\n",
    "efile.writerow(['business_id','review_count','stars','categories'])\n",
    "with open('business.json') as f:\n",
    "    for line in f:\n",
    "                row1 = json.loads(line)\n",
    "# some special char must be encoded in 'utf-8'\n",
    "                efile.writerow([row1['business_id'],row1['review_count'],row1['stars'],row1['categories']])\n",
    "    outfile_e.close()\n",
    "    df_extra= pd.read_csv('business.tsv', delimiter =\"\\t\", encoding=\"utf-8\")"
   ]
  },
  {
   "cell_type": "code",
   "execution_count": 73,
   "metadata": {},
   "outputs": [
    {
     "data": {
      "text/html": [
       "<div>\n",
       "<style>\n",
       "    .dataframe thead tr:only-child th {\n",
       "        text-align: right;\n",
       "    }\n",
       "\n",
       "    .dataframe thead th {\n",
       "        text-align: left;\n",
       "    }\n",
       "\n",
       "    .dataframe tbody tr th {\n",
       "        vertical-align: top;\n",
       "    }\n",
       "</style>\n",
       "<table border=\"1\" class=\"dataframe\">\n",
       "  <thead>\n",
       "    <tr style=\"text-align: right;\">\n",
       "      <th></th>\n",
       "      <th>business_id</th>\n",
       "      <th>review_count</th>\n",
       "      <th>stars</th>\n",
       "      <th>categories</th>\n",
       "    </tr>\n",
       "  </thead>\n",
       "  <tbody>\n",
       "    <tr>\n",
       "      <th>0</th>\n",
       "      <td>1SWheh84yJXfytovILXOAQ</td>\n",
       "      <td>5</td>\n",
       "      <td>3.0</td>\n",
       "      <td>Golf, Active Life</td>\n",
       "    </tr>\n",
       "    <tr>\n",
       "      <th>1</th>\n",
       "      <td>QXAEGFB4oINsVuTFxEYKFQ</td>\n",
       "      <td>128</td>\n",
       "      <td>2.5</td>\n",
       "      <td>Specialty Food, Restaurants, Dim Sum, Imported...</td>\n",
       "    </tr>\n",
       "    <tr>\n",
       "      <th>2</th>\n",
       "      <td>gnKjwL_1w79qoiV3IC_xQQ</td>\n",
       "      <td>170</td>\n",
       "      <td>4.0</td>\n",
       "      <td>Sushi Bars, Restaurants, Japanese</td>\n",
       "    </tr>\n",
       "    <tr>\n",
       "      <th>3</th>\n",
       "      <td>xvX2CttrVhyG2z1dFg_0xw</td>\n",
       "      <td>3</td>\n",
       "      <td>5.0</td>\n",
       "      <td>Insurance, Financial Services</td>\n",
       "    </tr>\n",
       "    <tr>\n",
       "      <th>4</th>\n",
       "      <td>HhyxOkGAM07SRYtlQ4wMFQ</td>\n",
       "      <td>4</td>\n",
       "      <td>4.0</td>\n",
       "      <td>Plumbing, Shopping, Local Services, Home Servi...</td>\n",
       "    </tr>\n",
       "  </tbody>\n",
       "</table>\n",
       "</div>"
      ],
      "text/plain": [
       "              business_id  review_count  stars  \\\n",
       "0  1SWheh84yJXfytovILXOAQ             5    3.0   \n",
       "1  QXAEGFB4oINsVuTFxEYKFQ           128    2.5   \n",
       "2  gnKjwL_1w79qoiV3IC_xQQ           170    4.0   \n",
       "3  xvX2CttrVhyG2z1dFg_0xw             3    5.0   \n",
       "4  HhyxOkGAM07SRYtlQ4wMFQ             4    4.0   \n",
       "\n",
       "                                          categories  \n",
       "0                                  Golf, Active Life  \n",
       "1  Specialty Food, Restaurants, Dim Sum, Imported...  \n",
       "2                  Sushi Bars, Restaurants, Japanese  \n",
       "3                      Insurance, Financial Services  \n",
       "4  Plumbing, Shopping, Local Services, Home Servi...  "
      ]
     },
     "execution_count": 73,
     "metadata": {},
     "output_type": "execute_result"
    }
   ],
   "source": [
    "df_extra.head()"
   ]
  },
  {
   "cell_type": "markdown",
   "metadata": {},
   "source": [
    "## group data of restaurant category"
   ]
  },
  {
   "cell_type": "code",
   "execution_count": 74,
   "metadata": {},
   "outputs": [
    {
     "name": "stderr",
     "output_type": "stream",
     "text": [
      "IOPub data rate exceeded.\n",
      "The notebook server will temporarily stop sending output\n",
      "to the client in order to avoid crashing it.\n",
      "To change this limit, set the config variable\n",
      "`--NotebookApp.iopub_data_rate_limit`.\n"
     ]
    }
   ],
   "source": [
    "df_new=pd.DataFrame(df_extra[df_extra['categories'].str.contains('Restaurants')==True])\n",
    "df_new.style"
   ]
  },
  {
   "cell_type": "code",
   "execution_count": 75,
   "metadata": {},
   "outputs": [
    {
     "data": {
      "text/html": [
       "<div>\n",
       "<style>\n",
       "    .dataframe thead tr:only-child th {\n",
       "        text-align: right;\n",
       "    }\n",
       "\n",
       "    .dataframe thead th {\n",
       "        text-align: left;\n",
       "    }\n",
       "\n",
       "    .dataframe tbody tr th {\n",
       "        vertical-align: top;\n",
       "    }\n",
       "</style>\n",
       "<table border=\"1\" class=\"dataframe\">\n",
       "  <thead>\n",
       "    <tr style=\"text-align: right;\">\n",
       "      <th></th>\n",
       "      <th>business_id</th>\n",
       "      <th>review_count</th>\n",
       "      <th>stars</th>\n",
       "      <th>categories</th>\n",
       "      <th>all_reviews</th>\n",
       "    </tr>\n",
       "  </thead>\n",
       "  <tbody>\n",
       "    <tr>\n",
       "      <th>0</th>\n",
       "      <td>QXAEGFB4oINsVuTFxEYKFQ</td>\n",
       "      <td>128</td>\n",
       "      <td>2.5</td>\n",
       "      <td>Specialty Food, Restaurants, Dim Sum, Imported...</td>\n",
       "      <td>b'My girlfriend and I went for dinner at Emera...</td>\n",
       "    </tr>\n",
       "    <tr>\n",
       "      <th>1</th>\n",
       "      <td>gnKjwL_1w79qoiV3IC_xQQ</td>\n",
       "      <td>170</td>\n",
       "      <td>4.0</td>\n",
       "      <td>Sushi Bars, Restaurants, Japanese</td>\n",
       "      <td>b'Husband was craving Chicken Teriyaki &amp; gyoza...</td>\n",
       "    </tr>\n",
       "    <tr>\n",
       "      <th>2</th>\n",
       "      <td>1Dfx3zM-rW4n-31KeC8sJg</td>\n",
       "      <td>18</td>\n",
       "      <td>3.0</td>\n",
       "      <td>Restaurants, Breakfast &amp; Brunch, Mexican, Taco...</td>\n",
       "      <td>b'I mean it\\'s Taco Bell, so it is what it is....</td>\n",
       "    </tr>\n",
       "    <tr>\n",
       "      <th>3</th>\n",
       "      <td>fweCYi8FmbJXHCqLnwuk8w</td>\n",
       "      <td>16</td>\n",
       "      <td>4.0</td>\n",
       "      <td>Italian, Restaurants, Pizza, Chicken Wings</td>\n",
       "      <td>b'Hands down, this is the best pizza place in ...</td>\n",
       "    </tr>\n",
       "    <tr>\n",
       "      <th>4</th>\n",
       "      <td>PZ-LZzSlhSe9utkQYU8pFg</td>\n",
       "      <td>40</td>\n",
       "      <td>4.0</td>\n",
       "      <td>Restaurants, Italian</td>\n",
       "      <td>b'We went there for dinner the other night, be...</td>\n",
       "    </tr>\n",
       "  </tbody>\n",
       "</table>\n",
       "</div>"
      ],
      "text/plain": [
       "              business_id  review_count  stars  \\\n",
       "0  QXAEGFB4oINsVuTFxEYKFQ           128    2.5   \n",
       "1  gnKjwL_1w79qoiV3IC_xQQ           170    4.0   \n",
       "2  1Dfx3zM-rW4n-31KeC8sJg            18    3.0   \n",
       "3  fweCYi8FmbJXHCqLnwuk8w            16    4.0   \n",
       "4  PZ-LZzSlhSe9utkQYU8pFg            40    4.0   \n",
       "\n",
       "                                          categories  \\\n",
       "0  Specialty Food, Restaurants, Dim Sum, Imported...   \n",
       "1                  Sushi Bars, Restaurants, Japanese   \n",
       "2  Restaurants, Breakfast & Brunch, Mexican, Taco...   \n",
       "3         Italian, Restaurants, Pizza, Chicken Wings   \n",
       "4                               Restaurants, Italian   \n",
       "\n",
       "                                         all_reviews  \n",
       "0  b'My girlfriend and I went for dinner at Emera...  \n",
       "1  b'Husband was craving Chicken Teriyaki & gyoza...  \n",
       "2  b'I mean it\\'s Taco Bell, so it is what it is....  \n",
       "3  b'Hands down, this is the best pizza place in ...  \n",
       "4  b'We went there for dinner the other night, be...  "
      ]
     },
     "execution_count": 75,
     "metadata": {},
     "output_type": "execute_result"
    }
   ],
   "source": [
    "newmerge_e= pd.merge(df_new, df_ready_for_sklearn, on='business_id')\n",
    "newmerge_e.head()"
   ]
  },
  {
   "cell_type": "code",
   "execution_count": 76,
   "metadata": {
    "collapsed": true
   },
   "outputs": [],
   "source": [
    "extra_rev_df = newmerge_e[['review_count','all_reviews']]"
   ]
  },
  {
   "cell_type": "code",
   "execution_count": 77,
   "metadata": {
    "collapsed": true
   },
   "outputs": [],
   "source": [
    "vectorizer_extra = tfidf.TfidfVectorizer(stop_words='english',max_features = 1000,min_df = 5)"
   ]
  },
  {
   "cell_type": "code",
   "execution_count": 78,
   "metadata": {
    "collapsed": true
   },
   "outputs": [],
   "source": [
    "matrix_extra = vectorizer_extra.fit_transform(extra_rev_df['all_reviews'])"
   ]
  },
  {
   "cell_type": "code",
   "execution_count": 79,
   "metadata": {
    "collapsed": true
   },
   "outputs": [],
   "source": [
    "rest_array = matrix_extra.toarray() "
   ]
  },
  {
   "cell_type": "code",
   "execution_count": 80,
   "metadata": {},
   "outputs": [
    {
     "name": "stderr",
     "output_type": "stream",
     "text": [
      "/anaconda3/lib/python3.6/site-packages/ipykernel_launcher.py:1: SettingWithCopyWarning: \n",
      "A value is trying to be set on a copy of a slice from a DataFrame.\n",
      "Try using .loc[row_indexer,col_indexer] = value instead\n",
      "\n",
      "See the caveats in the documentation: http://pandas.pydata.org/pandas-docs/stable/indexing.html#indexing-view-versus-copy\n",
      "  \"\"\"Entry point for launching an IPython kernel.\n"
     ]
    }
   ],
   "source": [
    "extra_rev_df['review_count'] = zscore(extra_rev_df['review_count'])"
   ]
  },
  {
   "cell_type": "code",
   "execution_count": 81,
   "metadata": {},
   "outputs": [
    {
     "data": {
      "text/plain": [
       "array([ 0.33710005,  0.574879  , -0.28565433, ..., -0.36491398,\n",
       "       -0.24602451, -0.16676486])"
      ]
     },
     "execution_count": 81,
     "metadata": {},
     "output_type": "execute_result"
    }
   ],
   "source": [
    "extra_df_toarray = extra_rev_df['review_count'].values\n",
    "extra_df_toarray"
   ]
  },
  {
   "cell_type": "code",
   "execution_count": 82,
   "metadata": {
    "collapsed": true
   },
   "outputs": [],
   "source": [
    "extra_array = np.column_stack((extra_df_toarray,rest_array))"
   ]
  },
  {
   "cell_type": "code",
   "execution_count": 83,
   "metadata": {
    "collapsed": true
   },
   "outputs": [],
   "source": [
    "x_train_e,x_test_e,y_train_e,y_test_e = train_test_split(extra_array[:5000],star_rating_arr[:5000], test_size=0.2,random_state=42)"
   ]
  },
  {
   "cell_type": "markdown",
   "metadata": {},
   "source": [
    "### linear regression"
   ]
  },
  {
   "cell_type": "code",
   "execution_count": 84,
   "metadata": {
    "collapsed": true
   },
   "outputs": [],
   "source": [
    "\n",
    "linear_reg_extra = linear_model.LinearRegression()"
   ]
  },
  {
   "cell_type": "code",
   "execution_count": 85,
   "metadata": {},
   "outputs": [
    {
     "data": {
      "text/plain": [
       "LinearRegression(copy_X=True, fit_intercept=True, n_jobs=1, normalize=False)"
      ]
     },
     "execution_count": 85,
     "metadata": {},
     "output_type": "execute_result"
    }
   ],
   "source": [
    "linear_reg_extra.fit(x_train_e,y_train_e)"
   ]
  },
  {
   "cell_type": "code",
   "execution_count": 86,
   "metadata": {
    "collapsed": true
   },
   "outputs": [],
   "source": [
    "y_pred_e = linear_reg_extra.predict(x_test_e)\n"
   ]
  },
  {
   "cell_type": "code",
   "execution_count": 87,
   "metadata": {},
   "outputs": [
    {
     "data": {
      "text/html": [
       "<div>\n",
       "<style>\n",
       "    .dataframe thead tr:only-child th {\n",
       "        text-align: right;\n",
       "    }\n",
       "\n",
       "    .dataframe thead th {\n",
       "        text-align: left;\n",
       "    }\n",
       "\n",
       "    .dataframe tbody tr th {\n",
       "        vertical-align: top;\n",
       "    }\n",
       "</style>\n",
       "<table border=\"1\" class=\"dataframe\">\n",
       "  <thead>\n",
       "    <tr style=\"text-align: right;\">\n",
       "      <th></th>\n",
       "      <th>Prediction</th>\n",
       "    </tr>\n",
       "  </thead>\n",
       "  <tbody>\n",
       "    <tr>\n",
       "      <th>0</th>\n",
       "      <td>3.793086</td>\n",
       "    </tr>\n",
       "    <tr>\n",
       "      <th>1</th>\n",
       "      <td>3.543240</td>\n",
       "    </tr>\n",
       "    <tr>\n",
       "      <th>2</th>\n",
       "      <td>3.416182</td>\n",
       "    </tr>\n",
       "    <tr>\n",
       "      <th>3</th>\n",
       "      <td>3.535640</td>\n",
       "    </tr>\n",
       "    <tr>\n",
       "      <th>4</th>\n",
       "      <td>4.538569</td>\n",
       "    </tr>\n",
       "  </tbody>\n",
       "</table>\n",
       "</div>"
      ],
      "text/plain": [
       "   Prediction\n",
       "0    3.793086\n",
       "1    3.543240\n",
       "2    3.416182\n",
       "3    3.535640\n",
       "4    4.538569"
      ]
     },
     "execution_count": 87,
     "metadata": {},
     "output_type": "execute_result"
    }
   ],
   "source": [
    "ypred_linear_reg_e = pd.DataFrame({'Prediction': pd.Series(y_pred_e)})\n",
    "ypred_linear_reg_e.head()"
   ]
  },
  {
   "cell_type": "code",
   "execution_count": 88,
   "metadata": {},
   "outputs": [
    {
     "data": {
      "text/html": [
       "<div>\n",
       "<style>\n",
       "    .dataframe thead tr:only-child th {\n",
       "        text-align: right;\n",
       "    }\n",
       "\n",
       "    .dataframe thead th {\n",
       "        text-align: left;\n",
       "    }\n",
       "\n",
       "    .dataframe tbody tr th {\n",
       "        vertical-align: top;\n",
       "    }\n",
       "</style>\n",
       "<table border=\"1\" class=\"dataframe\">\n",
       "  <thead>\n",
       "    <tr style=\"text-align: right;\">\n",
       "      <th></th>\n",
       "      <th>business_id</th>\n",
       "      <th>stars</th>\n",
       "      <th>Prediction</th>\n",
       "    </tr>\n",
       "  </thead>\n",
       "  <tbody>\n",
       "    <tr>\n",
       "      <th>0</th>\n",
       "      <td>QXAEGFB4oINsVuTFxEYKFQ</td>\n",
       "      <td>2.5</td>\n",
       "      <td>3.793086</td>\n",
       "    </tr>\n",
       "    <tr>\n",
       "      <th>1</th>\n",
       "      <td>gnKjwL_1w79qoiV3IC_xQQ</td>\n",
       "      <td>4.0</td>\n",
       "      <td>3.543240</td>\n",
       "    </tr>\n",
       "    <tr>\n",
       "      <th>2</th>\n",
       "      <td>1Dfx3zM-rW4n-31KeC8sJg</td>\n",
       "      <td>3.0</td>\n",
       "      <td>3.416182</td>\n",
       "    </tr>\n",
       "    <tr>\n",
       "      <th>3</th>\n",
       "      <td>fweCYi8FmbJXHCqLnwuk8w</td>\n",
       "      <td>4.0</td>\n",
       "      <td>3.535640</td>\n",
       "    </tr>\n",
       "    <tr>\n",
       "      <th>4</th>\n",
       "      <td>PZ-LZzSlhSe9utkQYU8pFg</td>\n",
       "      <td>4.0</td>\n",
       "      <td>4.538569</td>\n",
       "    </tr>\n",
       "  </tbody>\n",
       "</table>\n",
       "</div>"
      ],
      "text/plain": [
       "              business_id  stars  Prediction\n",
       "0  QXAEGFB4oINsVuTFxEYKFQ    2.5    3.793086\n",
       "1  gnKjwL_1w79qoiV3IC_xQQ    4.0    3.543240\n",
       "2  1Dfx3zM-rW4n-31KeC8sJg    3.0    3.416182\n",
       "3  fweCYi8FmbJXHCqLnwuk8w    4.0    3.535640\n",
       "4  PZ-LZzSlhSe9utkQYU8pFg    4.0    4.538569"
      ]
     },
     "execution_count": 88,
     "metadata": {},
     "output_type": "execute_result"
    }
   ],
   "source": [
    "ypred_linear_reg_e = pd.DataFrame({'Prediction': pd.Series(y_pred_e)})\n",
    "linear_regression_e = pd.concat([newmerge_e[['business_id','stars']][:5], ypred_linear_reg_e[:5]], axis=1)\n",
    "linear_regression_e"
   ]
  },
  {
   "cell_type": "code",
   "execution_count": 89,
   "metadata": {
    "collapsed": true
   },
   "outputs": [],
   "source": [
    "error_e = np.sqrt(mean_squared_error(y_test_e, y_pred_e))"
   ]
  },
  {
   "cell_type": "code",
   "execution_count": 90,
   "metadata": {},
   "outputs": [
    {
     "name": "stdout",
     "output_type": "stream",
     "text": [
      "Root Mean squared error: 1.16\n",
      "R2 score -0.36\n"
     ]
    }
   ],
   "source": [
    "print(\"Root Mean squared error: %.2f\" % error_e)\n",
    "# Explained variance score: 1 is perfect prediction\n",
    "print('R2 score %.2f' % r2_score(y_test_e, y_pred_e))"
   ]
  },
  {
   "cell_type": "markdown",
   "metadata": {},
   "source": [
    "### logistic regression"
   ]
  },
  {
   "cell_type": "code",
   "execution_count": 91,
   "metadata": {
    "collapsed": true
   },
   "outputs": [],
   "source": [
    "\n",
    "logreg_extra = LogisticRegression()"
   ]
  },
  {
   "cell_type": "code",
   "execution_count": 92,
   "metadata": {
    "collapsed": true
   },
   "outputs": [],
   "source": [
    "labelencoder_extra = LabelEncoder()"
   ]
  },
  {
   "cell_type": "code",
   "execution_count": 93,
   "metadata": {
    "collapsed": true
   },
   "outputs": [],
   "source": [
    "stars_e = newmerge_e.values"
   ]
  },
  {
   "cell_type": "code",
   "execution_count": 94,
   "metadata": {},
   "outputs": [
    {
     "data": {
      "text/html": [
       "<div>\n",
       "<style>\n",
       "    .dataframe thead tr:only-child th {\n",
       "        text-align: right;\n",
       "    }\n",
       "\n",
       "    .dataframe thead th {\n",
       "        text-align: left;\n",
       "    }\n",
       "\n",
       "    .dataframe tbody tr th {\n",
       "        vertical-align: top;\n",
       "    }\n",
       "</style>\n",
       "<table border=\"1\" class=\"dataframe\">\n",
       "  <thead>\n",
       "    <tr style=\"text-align: right;\">\n",
       "      <th></th>\n",
       "      <th>0</th>\n",
       "      <th>1</th>\n",
       "      <th>2</th>\n",
       "      <th>3</th>\n",
       "      <th>4</th>\n",
       "    </tr>\n",
       "  </thead>\n",
       "  <tbody>\n",
       "    <tr>\n",
       "      <th>0</th>\n",
       "      <td>QXAEGFB4oINsVuTFxEYKFQ</td>\n",
       "      <td>128</td>\n",
       "      <td>3</td>\n",
       "      <td>Specialty Food, Restaurants, Dim Sum, Imported...</td>\n",
       "      <td>b'My girlfriend and I went for dinner at Emera...</td>\n",
       "    </tr>\n",
       "    <tr>\n",
       "      <th>1</th>\n",
       "      <td>gnKjwL_1w79qoiV3IC_xQQ</td>\n",
       "      <td>170</td>\n",
       "      <td>6</td>\n",
       "      <td>Sushi Bars, Restaurants, Japanese</td>\n",
       "      <td>b'Husband was craving Chicken Teriyaki &amp; gyoza...</td>\n",
       "    </tr>\n",
       "    <tr>\n",
       "      <th>2</th>\n",
       "      <td>1Dfx3zM-rW4n-31KeC8sJg</td>\n",
       "      <td>18</td>\n",
       "      <td>4</td>\n",
       "      <td>Restaurants, Breakfast &amp; Brunch, Mexican, Taco...</td>\n",
       "      <td>b'I mean it\\'s Taco Bell, so it is what it is....</td>\n",
       "    </tr>\n",
       "    <tr>\n",
       "      <th>3</th>\n",
       "      <td>fweCYi8FmbJXHCqLnwuk8w</td>\n",
       "      <td>16</td>\n",
       "      <td>6</td>\n",
       "      <td>Italian, Restaurants, Pizza, Chicken Wings</td>\n",
       "      <td>b'Hands down, this is the best pizza place in ...</td>\n",
       "    </tr>\n",
       "    <tr>\n",
       "      <th>4</th>\n",
       "      <td>PZ-LZzSlhSe9utkQYU8pFg</td>\n",
       "      <td>40</td>\n",
       "      <td>6</td>\n",
       "      <td>Restaurants, Italian</td>\n",
       "      <td>b'We went there for dinner the other night, be...</td>\n",
       "    </tr>\n",
       "  </tbody>\n",
       "</table>\n",
       "</div>"
      ],
      "text/plain": [
       "                        0    1  2  \\\n",
       "0  QXAEGFB4oINsVuTFxEYKFQ  128  3   \n",
       "1  gnKjwL_1w79qoiV3IC_xQQ  170  6   \n",
       "2  1Dfx3zM-rW4n-31KeC8sJg   18  4   \n",
       "3  fweCYi8FmbJXHCqLnwuk8w   16  6   \n",
       "4  PZ-LZzSlhSe9utkQYU8pFg   40  6   \n",
       "\n",
       "                                                   3  \\\n",
       "0  Specialty Food, Restaurants, Dim Sum, Imported...   \n",
       "1                  Sushi Bars, Restaurants, Japanese   \n",
       "2  Restaurants, Breakfast & Brunch, Mexican, Taco...   \n",
       "3         Italian, Restaurants, Pizza, Chicken Wings   \n",
       "4                               Restaurants, Italian   \n",
       "\n",
       "                                                   4  \n",
       "0  b'My girlfriend and I went for dinner at Emera...  \n",
       "1  b'Husband was craving Chicken Teriyaki & gyoza...  \n",
       "2  b'I mean it\\'s Taco Bell, so it is what it is....  \n",
       "3  b'Hands down, this is the best pizza place in ...  \n",
       "4  b'We went there for dinner the other night, be...  "
      ]
     },
     "execution_count": 94,
     "metadata": {},
     "output_type": "execute_result"
    }
   ],
   "source": [
    "stars_e[:, 2] = labelencoder_extra.fit_transform(stars_e[:, 2])\n",
    "\n",
    "review_merge_extra = pd.DataFrame(stars_e)\n",
    "review_merge_extra.head()"
   ]
  },
  {
   "cell_type": "code",
   "execution_count": 95,
   "metadata": {
    "collapsed": true
   },
   "outputs": [],
   "source": [
    "review_stars_e = review_merge_extra[2].values\n",
    "review_stars_e = review_stars_e.astype('int')"
   ]
  },
  {
   "cell_type": "code",
   "execution_count": 96,
   "metadata": {
    "collapsed": true
   },
   "outputs": [],
   "source": [
    "x_train_e,x_test_e,y_train_t2,y_test_t2 = train_test_split(extra_array[:5000],review_stars_e[:5000], test_size=0.2,random_state=42)"
   ]
  },
  {
   "cell_type": "code",
   "execution_count": 97,
   "metadata": {
    "scrolled": true
   },
   "outputs": [
    {
     "data": {
      "text/plain": [
       "numpy.ndarray"
      ]
     },
     "execution_count": 97,
     "metadata": {},
     "output_type": "execute_result"
    }
   ],
   "source": [
    "type(x_train_e)"
   ]
  },
  {
   "cell_type": "code",
   "execution_count": 98,
   "metadata": {},
   "outputs": [
    {
     "data": {
      "text/plain": [
       "LogisticRegression(C=1.0, class_weight=None, dual=False, fit_intercept=True,\n",
       "          intercept_scaling=1, max_iter=100, multi_class='ovr', n_jobs=1,\n",
       "          penalty='l2', random_state=None, solver='liblinear', tol=0.0001,\n",
       "          verbose=0, warm_start=False)"
      ]
     },
     "execution_count": 98,
     "metadata": {},
     "output_type": "execute_result"
    }
   ],
   "source": [
    "logreg_extra.fit(x_train_e, y_train_t2)"
   ]
  },
  {
   "cell_type": "code",
   "execution_count": 99,
   "metadata": {
    "collapsed": true
   },
   "outputs": [],
   "source": [
    "y_pred_extra=logreg_extra.predict(x_test_e)"
   ]
  },
  {
   "cell_type": "code",
   "execution_count": 100,
   "metadata": {},
   "outputs": [
    {
     "data": {
      "text/plain": [
       "array([4.0, 3.0, 3.5, 4.0, 4.0, 4.0, 3.5, 4.5, 3.5, 3.0], dtype=object)"
      ]
     },
     "execution_count": 100,
     "metadata": {},
     "output_type": "execute_result"
    }
   ],
   "source": [
    "decode_y_extra = (labelencoder.inverse_transform(y_pred_extra)[:10])\n",
    "decode_y_extra"
   ]
  },
  {
   "cell_type": "code",
   "execution_count": 101,
   "metadata": {},
   "outputs": [
    {
     "data": {
      "text/html": [
       "<div>\n",
       "<style>\n",
       "    .dataframe thead tr:only-child th {\n",
       "        text-align: right;\n",
       "    }\n",
       "\n",
       "    .dataframe thead th {\n",
       "        text-align: left;\n",
       "    }\n",
       "\n",
       "    .dataframe tbody tr th {\n",
       "        vertical-align: top;\n",
       "    }\n",
       "</style>\n",
       "<table border=\"1\" class=\"dataframe\">\n",
       "  <thead>\n",
       "    <tr style=\"text-align: right;\">\n",
       "      <th></th>\n",
       "      <th>business_id</th>\n",
       "      <th>stars</th>\n",
       "      <th>Prediction</th>\n",
       "    </tr>\n",
       "  </thead>\n",
       "  <tbody>\n",
       "    <tr>\n",
       "      <th>0</th>\n",
       "      <td>QXAEGFB4oINsVuTFxEYKFQ</td>\n",
       "      <td>2.5</td>\n",
       "      <td>4</td>\n",
       "    </tr>\n",
       "    <tr>\n",
       "      <th>1</th>\n",
       "      <td>gnKjwL_1w79qoiV3IC_xQQ</td>\n",
       "      <td>4.0</td>\n",
       "      <td>3</td>\n",
       "    </tr>\n",
       "    <tr>\n",
       "      <th>2</th>\n",
       "      <td>1Dfx3zM-rW4n-31KeC8sJg</td>\n",
       "      <td>3.0</td>\n",
       "      <td>3.5</td>\n",
       "    </tr>\n",
       "    <tr>\n",
       "      <th>3</th>\n",
       "      <td>fweCYi8FmbJXHCqLnwuk8w</td>\n",
       "      <td>4.0</td>\n",
       "      <td>4</td>\n",
       "    </tr>\n",
       "    <tr>\n",
       "      <th>4</th>\n",
       "      <td>PZ-LZzSlhSe9utkQYU8pFg</td>\n",
       "      <td>4.0</td>\n",
       "      <td>4</td>\n",
       "    </tr>\n",
       "  </tbody>\n",
       "</table>\n",
       "</div>"
      ],
      "text/plain": [
       "              business_id  stars Prediction\n",
       "0  QXAEGFB4oINsVuTFxEYKFQ    2.5          4\n",
       "1  gnKjwL_1w79qoiV3IC_xQQ    4.0          3\n",
       "2  1Dfx3zM-rW4n-31KeC8sJg    3.0        3.5\n",
       "3  fweCYi8FmbJXHCqLnwuk8w    4.0          4\n",
       "4  PZ-LZzSlhSe9utkQYU8pFg    4.0          4"
      ]
     },
     "execution_count": 101,
     "metadata": {},
     "output_type": "execute_result"
    }
   ],
   "source": [
    "ypred_LR_e = pd.DataFrame({'Prediction': pd.Series(decode_y_extra)})\n",
    "log_regression_e = pd.concat([newmerge_e[['business_id','stars']][:5], ypred_LR_e[:5]], axis=1)\n",
    "log_regression_e"
   ]
  },
  {
   "cell_type": "code",
   "execution_count": 103,
   "metadata": {},
   "outputs": [
    {
     "name": "stdout",
     "output_type": "stream",
     "text": [
      "Evaluating with F1 score metric: 0.37\n"
     ]
    }
   ],
   "source": [
    "print('Evaluating with F1 score metric: %.2f' % f1_score(y_test_t2, y_pred_extra,average='micro'))"
   ]
  },
  {
   "cell_type": "markdown",
   "metadata": {},
   "source": [
    "### k nearest neighbour"
   ]
  },
  {
   "cell_type": "code",
   "execution_count": 104,
   "metadata": {
    "collapsed": true
   },
   "outputs": [],
   "source": [
    "#knn\n",
    "knn_extra = KNeighborsClassifier(n_neighbors=10)\n"
   ]
  },
  {
   "cell_type": "code",
   "execution_count": 105,
   "metadata": {},
   "outputs": [
    {
     "data": {
      "text/plain": [
       "KNeighborsClassifier(algorithm='auto', leaf_size=30, metric='minkowski',\n",
       "           metric_params=None, n_jobs=1, n_neighbors=10, p=2,\n",
       "           weights='uniform')"
      ]
     },
     "execution_count": 105,
     "metadata": {},
     "output_type": "execute_result"
    }
   ],
   "source": [
    "knn_extra.fit(x_train_e, y_train_t2)"
   ]
  },
  {
   "cell_type": "code",
   "execution_count": 106,
   "metadata": {
    "collapsed": true
   },
   "outputs": [],
   "source": [
    "y_pred_knn_e = knn_extra.predict(x_test_e)"
   ]
  },
  {
   "cell_type": "code",
   "execution_count": 107,
   "metadata": {},
   "outputs": [
    {
     "data": {
      "text/plain": [
       "array([3.5, 3.5, 4.0, 3.5, 4.0, 4.5, 3.0, 3.5, 4.5, 2.5], dtype=object)"
      ]
     },
     "execution_count": 107,
     "metadata": {},
     "output_type": "execute_result"
    }
   ],
   "source": [
    "decode_y_knn_extra = (labelencoder.inverse_transform(y_pred_knn_e)[:10])\n",
    "decode_y_knn_extra"
   ]
  },
  {
   "cell_type": "code",
   "execution_count": 108,
   "metadata": {},
   "outputs": [
    {
     "data": {
      "text/html": [
       "<div>\n",
       "<style>\n",
       "    .dataframe thead tr:only-child th {\n",
       "        text-align: right;\n",
       "    }\n",
       "\n",
       "    .dataframe thead th {\n",
       "        text-align: left;\n",
       "    }\n",
       "\n",
       "    .dataframe tbody tr th {\n",
       "        vertical-align: top;\n",
       "    }\n",
       "</style>\n",
       "<table border=\"1\" class=\"dataframe\">\n",
       "  <thead>\n",
       "    <tr style=\"text-align: right;\">\n",
       "      <th></th>\n",
       "      <th>business_id</th>\n",
       "      <th>stars</th>\n",
       "      <th>Prediction</th>\n",
       "    </tr>\n",
       "  </thead>\n",
       "  <tbody>\n",
       "    <tr>\n",
       "      <th>0</th>\n",
       "      <td>QXAEGFB4oINsVuTFxEYKFQ</td>\n",
       "      <td>2.5</td>\n",
       "      <td>3.5</td>\n",
       "    </tr>\n",
       "    <tr>\n",
       "      <th>1</th>\n",
       "      <td>gnKjwL_1w79qoiV3IC_xQQ</td>\n",
       "      <td>4.0</td>\n",
       "      <td>3.5</td>\n",
       "    </tr>\n",
       "    <tr>\n",
       "      <th>2</th>\n",
       "      <td>1Dfx3zM-rW4n-31KeC8sJg</td>\n",
       "      <td>3.0</td>\n",
       "      <td>4</td>\n",
       "    </tr>\n",
       "    <tr>\n",
       "      <th>3</th>\n",
       "      <td>fweCYi8FmbJXHCqLnwuk8w</td>\n",
       "      <td>4.0</td>\n",
       "      <td>3.5</td>\n",
       "    </tr>\n",
       "    <tr>\n",
       "      <th>4</th>\n",
       "      <td>PZ-LZzSlhSe9utkQYU8pFg</td>\n",
       "      <td>4.0</td>\n",
       "      <td>4</td>\n",
       "    </tr>\n",
       "  </tbody>\n",
       "</table>\n",
       "</div>"
      ],
      "text/plain": [
       "              business_id  stars Prediction\n",
       "0  QXAEGFB4oINsVuTFxEYKFQ    2.5        3.5\n",
       "1  gnKjwL_1w79qoiV3IC_xQQ    4.0        3.5\n",
       "2  1Dfx3zM-rW4n-31KeC8sJg    3.0          4\n",
       "3  fweCYi8FmbJXHCqLnwuk8w    4.0        3.5\n",
       "4  PZ-LZzSlhSe9utkQYU8pFg    4.0          4"
      ]
     },
     "execution_count": 108,
     "metadata": {},
     "output_type": "execute_result"
    }
   ],
   "source": [
    "ypred_knn_e = pd.DataFrame({'Prediction': pd.Series(decode_y_knn_extra)})\n",
    "knn_e = pd.concat([newmerge_e[['business_id','stars']][:5], ypred_knn_e[:5]], axis=1)\n",
    "knn_e"
   ]
  },
  {
   "cell_type": "code",
   "execution_count": 109,
   "metadata": {},
   "outputs": [
    {
     "name": "stdout",
     "output_type": "stream",
     "text": [
      "Evaluating with F1 score metric: 0.27\n"
     ]
    }
   ],
   "source": [
    "print('Evaluating with F1 score metric: %.2f' % f1_score(y_test_t2, y_pred_knn_e,average='micro'))"
   ]
  },
  {
   "cell_type": "markdown",
   "metadata": {},
   "source": [
    "### SVM"
   ]
  },
  {
   "cell_type": "code",
   "execution_count": 110,
   "metadata": {
    "collapsed": true
   },
   "outputs": [],
   "source": [
    "#svm\n",
    "model_extra = svm.SVC() "
   ]
  },
  {
   "cell_type": "code",
   "execution_count": 111,
   "metadata": {},
   "outputs": [
    {
     "data": {
      "text/plain": [
       "SVC(C=1.0, cache_size=200, class_weight=None, coef0=0.0,\n",
       "  decision_function_shape='ovr', degree=3, gamma='auto', kernel='rbf',\n",
       "  max_iter=-1, probability=False, random_state=None, shrinking=True,\n",
       "  tol=0.001, verbose=False)"
      ]
     },
     "execution_count": 111,
     "metadata": {},
     "output_type": "execute_result"
    }
   ],
   "source": [
    "model_extra.fit(x_train_e, y_train_t2)"
   ]
  },
  {
   "cell_type": "code",
   "execution_count": 112,
   "metadata": {
    "collapsed": true
   },
   "outputs": [],
   "source": [
    "y_pred_SVM_e = model_extra.predict(x_test_e)"
   ]
  },
  {
   "cell_type": "code",
   "execution_count": 113,
   "metadata": {},
   "outputs": [
    {
     "data": {
      "text/html": [
       "<div>\n",
       "<style>\n",
       "    .dataframe thead tr:only-child th {\n",
       "        text-align: right;\n",
       "    }\n",
       "\n",
       "    .dataframe thead th {\n",
       "        text-align: left;\n",
       "    }\n",
       "\n",
       "    .dataframe tbody tr th {\n",
       "        vertical-align: top;\n",
       "    }\n",
       "</style>\n",
       "<table border=\"1\" class=\"dataframe\">\n",
       "  <thead>\n",
       "    <tr style=\"text-align: right;\">\n",
       "      <th></th>\n",
       "      <th>business_id</th>\n",
       "      <th>stars</th>\n",
       "      <th>Prediction</th>\n",
       "    </tr>\n",
       "  </thead>\n",
       "  <tbody>\n",
       "    <tr>\n",
       "      <th>0</th>\n",
       "      <td>1SWheh84yJXfytovILXOAQ</td>\n",
       "      <td>3.0</td>\n",
       "      <td>6</td>\n",
       "    </tr>\n",
       "    <tr>\n",
       "      <th>1</th>\n",
       "      <td>QXAEGFB4oINsVuTFxEYKFQ</td>\n",
       "      <td>2.5</td>\n",
       "      <td>6</td>\n",
       "    </tr>\n",
       "    <tr>\n",
       "      <th>2</th>\n",
       "      <td>gnKjwL_1w79qoiV3IC_xQQ</td>\n",
       "      <td>4.0</td>\n",
       "      <td>6</td>\n",
       "    </tr>\n",
       "    <tr>\n",
       "      <th>3</th>\n",
       "      <td>xvX2CttrVhyG2z1dFg_0xw</td>\n",
       "      <td>5.0</td>\n",
       "      <td>6</td>\n",
       "    </tr>\n",
       "    <tr>\n",
       "      <th>4</th>\n",
       "      <td>HhyxOkGAM07SRYtlQ4wMFQ</td>\n",
       "      <td>4.0</td>\n",
       "      <td>6</td>\n",
       "    </tr>\n",
       "  </tbody>\n",
       "</table>\n",
       "</div>"
      ],
      "text/plain": [
       "              business_id  stars  Prediction\n",
       "0  1SWheh84yJXfytovILXOAQ    3.0           6\n",
       "1  QXAEGFB4oINsVuTFxEYKFQ    2.5           6\n",
       "2  gnKjwL_1w79qoiV3IC_xQQ    4.0           6\n",
       "3  xvX2CttrVhyG2z1dFg_0xw    5.0           6\n",
       "4  HhyxOkGAM07SRYtlQ4wMFQ    4.0           6"
      ]
     },
     "execution_count": 113,
     "metadata": {},
     "output_type": "execute_result"
    }
   ],
   "source": [
    "ypred_svm_e = pd.DataFrame({'Prediction': pd.Series(y_pred_SVM_e)})\n",
    "ypred_svm_e = pd.concat([newmerge[['business_id','stars']][:5], ypred_svm_e[:5]], axis=1)\n",
    "ypred_svm_e"
   ]
  },
  {
   "cell_type": "code",
   "execution_count": 115,
   "metadata": {},
   "outputs": [
    {
     "name": "stdout",
     "output_type": "stream",
     "text": [
      "Evaluating with F1 score metric: 0.23\n"
     ]
    }
   ],
   "source": [
    "print('Evaluating with F1 score metric: %.2f' % f1_score(y_test_t2, y_pred_SVM_e,average='micro'))"
   ]
  },
  {
   "cell_type": "markdown",
   "metadata": {},
   "source": [
    "## Extra feature 2 - Combining tips.json "
   ]
  },
  {
   "cell_type": "code",
   "execution_count": 116,
   "metadata": {
    "collapsed": true
   },
   "outputs": [],
   "source": [
    "outfile2 = open(\"buisness_tip.tsv\",'w')\n",
    "tfile = csv.writer(outfile2, delimiter =\"\\t\", quoting=csv.QUOTE_MINIMAL)\n",
    "tfile.writerow(['business_id','text'])\n",
    "with open('tip.json') as f:\n",
    "    for line in f:\n",
    "                row2 = json.loads(line)\n",
    "# some special char must be encoded in 'utf-8'\n",
    "                tfile.writerow([row2['business_id'],row2['text']])\n",
    "    outfile2.close()\n",
    "    df2= pd.read_csv('buisness_tip.tsv', delimiter =\"\\t\", encoding=\"utf-8\")"
   ]
  },
  {
   "cell_type": "code",
   "execution_count": 117,
   "metadata": {},
   "outputs": [
    {
     "data": {
      "text/html": [
       "<div>\n",
       "<style>\n",
       "    .dataframe thead tr:only-child th {\n",
       "        text-align: right;\n",
       "    }\n",
       "\n",
       "    .dataframe thead th {\n",
       "        text-align: left;\n",
       "    }\n",
       "\n",
       "    .dataframe tbody tr th {\n",
       "        vertical-align: top;\n",
       "    }\n",
       "</style>\n",
       "<table border=\"1\" class=\"dataframe\">\n",
       "  <thead>\n",
       "    <tr style=\"text-align: right;\">\n",
       "      <th></th>\n",
       "      <th>business_id</th>\n",
       "      <th>text</th>\n",
       "    </tr>\n",
       "  </thead>\n",
       "  <tbody>\n",
       "    <tr>\n",
       "      <th>0</th>\n",
       "      <td>VaKXUpmWTTWDKbpJ3aQdMw</td>\n",
       "      <td>Great for watching games, ufc, and whatever el...</td>\n",
       "    </tr>\n",
       "    <tr>\n",
       "      <th>1</th>\n",
       "      <td>OPiPeoJiv92rENwbq76orA</td>\n",
       "      <td>Happy Hour 2-4 daily with 1/2 price drinks and...</td>\n",
       "    </tr>\n",
       "    <tr>\n",
       "      <th>2</th>\n",
       "      <td>5KheTjYPu1HcQzQFtm4_vw</td>\n",
       "      <td>Good chips and salsa. Loud at times. Good serv...</td>\n",
       "    </tr>\n",
       "    <tr>\n",
       "      <th>3</th>\n",
       "      <td>TkoyGi8J7YFjA6SbaRzrxg</td>\n",
       "      <td>The setting and decoration here is amazing. Co...</td>\n",
       "    </tr>\n",
       "    <tr>\n",
       "      <th>4</th>\n",
       "      <td>AkL6Ous6A1atZejfZXn1Bg</td>\n",
       "      <td>Molly is definately taking a picture with Sant...</td>\n",
       "    </tr>\n",
       "  </tbody>\n",
       "</table>\n",
       "</div>"
      ],
      "text/plain": [
       "              business_id                                               text\n",
       "0  VaKXUpmWTTWDKbpJ3aQdMw  Great for watching games, ufc, and whatever el...\n",
       "1  OPiPeoJiv92rENwbq76orA  Happy Hour 2-4 daily with 1/2 price drinks and...\n",
       "2  5KheTjYPu1HcQzQFtm4_vw  Good chips and salsa. Loud at times. Good serv...\n",
       "3  TkoyGi8J7YFjA6SbaRzrxg  The setting and decoration here is amazing. Co...\n",
       "4  AkL6Ous6A1atZejfZXn1Bg  Molly is definately taking a picture with Sant..."
      ]
     },
     "execution_count": 117,
     "metadata": {},
     "output_type": "execute_result"
    }
   ],
   "source": [
    "df2.head()"
   ]
  },
  {
   "cell_type": "code",
   "execution_count": 118,
   "metadata": {
    "collapsed": true
   },
   "outputs": [],
   "source": [
    "df2['business_id']=df2['business_id'].astype(str)\n",
    "df2['text']=df2['text'].astype(str)"
   ]
  },
  {
   "cell_type": "code",
   "execution_count": 119,
   "metadata": {
    "collapsed": true
   },
   "outputs": [],
   "source": [
    "df2_review_agg = df2.groupby('business_id')['text'].sum()\n",
    "df2_ready_for_sklearn = pd.DataFrame({'business_id': df2_review_agg.index, 'all_tips': df2_review_agg.values})\n"
   ]
  },
  {
   "cell_type": "code",
   "execution_count": 120,
   "metadata": {},
   "outputs": [
    {
     "data": {
      "text/html": [
       "<div>\n",
       "<style>\n",
       "    .dataframe thead tr:only-child th {\n",
       "        text-align: right;\n",
       "    }\n",
       "\n",
       "    .dataframe thead th {\n",
       "        text-align: left;\n",
       "    }\n",
       "\n",
       "    .dataframe tbody tr th {\n",
       "        vertical-align: top;\n",
       "    }\n",
       "</style>\n",
       "<table border=\"1\" class=\"dataframe\">\n",
       "  <thead>\n",
       "    <tr style=\"text-align: right;\">\n",
       "      <th></th>\n",
       "      <th>business_id</th>\n",
       "      <th>review_count</th>\n",
       "      <th>stars</th>\n",
       "      <th>all_reviews</th>\n",
       "      <th>all_tips</th>\n",
       "    </tr>\n",
       "  </thead>\n",
       "  <tbody>\n",
       "    <tr>\n",
       "      <th>0</th>\n",
       "      <td>1SWheh84yJXfytovILXOAQ</td>\n",
       "      <td>5</td>\n",
       "      <td>3.0</td>\n",
       "      <td>b\"Don't go here if you expect consistent or re...</td>\n",
       "      <td>Played for the first there this past weekend a...</td>\n",
       "    </tr>\n",
       "    <tr>\n",
       "      <th>1</th>\n",
       "      <td>QXAEGFB4oINsVuTFxEYKFQ</td>\n",
       "      <td>128</td>\n",
       "      <td>2.5</td>\n",
       "      <td>b'My girlfriend and I went for dinner at Emera...</td>\n",
       "      <td>Spring &amp; egg rolls are great, get them with ex...</td>\n",
       "    </tr>\n",
       "    <tr>\n",
       "      <th>2</th>\n",
       "      <td>gnKjwL_1w79qoiV3IC_xQQ</td>\n",
       "      <td>170</td>\n",
       "      <td>4.0</td>\n",
       "      <td>b'Husband was craving Chicken Teriyaki &amp; gyoza...</td>\n",
       "      <td>Tonkatsu Ramen!!!Ramen, Gyoza, miso soup and g...</td>\n",
       "    </tr>\n",
       "    <tr>\n",
       "      <th>3</th>\n",
       "      <td>68dUKd8_8liJ7in4aWOSEA</td>\n",
       "      <td>3</td>\n",
       "      <td>2.5</td>\n",
       "      <td>b'horrible. do not go.  staff is dishonest and...</td>\n",
       "      <td>Good service</td>\n",
       "    </tr>\n",
       "    <tr>\n",
       "      <th>4</th>\n",
       "      <td>5JucpCfHZltJh5r1JabjDg</td>\n",
       "      <td>7</td>\n",
       "      <td>3.5</td>\n",
       "      <td>b'OK place- I\\'ve gone for a couple of years a...</td>\n",
       "      <td>George does the best gel nails!!!</td>\n",
       "    </tr>\n",
       "  </tbody>\n",
       "</table>\n",
       "</div>"
      ],
      "text/plain": [
       "              business_id  review_count  stars  \\\n",
       "0  1SWheh84yJXfytovILXOAQ             5    3.0   \n",
       "1  QXAEGFB4oINsVuTFxEYKFQ           128    2.5   \n",
       "2  gnKjwL_1w79qoiV3IC_xQQ           170    4.0   \n",
       "3  68dUKd8_8liJ7in4aWOSEA             3    2.5   \n",
       "4  5JucpCfHZltJh5r1JabjDg             7    3.5   \n",
       "\n",
       "                                         all_reviews  \\\n",
       "0  b\"Don't go here if you expect consistent or re...   \n",
       "1  b'My girlfriend and I went for dinner at Emera...   \n",
       "2  b'Husband was craving Chicken Teriyaki & gyoza...   \n",
       "3  b'horrible. do not go.  staff is dishonest and...   \n",
       "4  b'OK place- I\\'ve gone for a couple of years a...   \n",
       "\n",
       "                                            all_tips  \n",
       "0  Played for the first there this past weekend a...  \n",
       "1  Spring & egg rolls are great, get them with ex...  \n",
       "2  Tonkatsu Ramen!!!Ramen, Gyoza, miso soup and g...  \n",
       "3                                       Good service  \n",
       "4                  George does the best gel nails!!!  "
      ]
     },
     "execution_count": 120,
     "metadata": {},
     "output_type": "execute_result"
    }
   ],
   "source": [
    "newmerge_tip= pd.merge(newmerge, df2_ready_for_sklearn, on='business_id')\n",
    "newmerge_tip.head()"
   ]
  },
  {
   "cell_type": "code",
   "execution_count": 121,
   "metadata": {
    "collapsed": true
   },
   "outputs": [],
   "source": [
    "tip_rev_df = newmerge_tip[['review_count','all_reviews','all_tips']]"
   ]
  },
  {
   "cell_type": "code",
   "execution_count": 122,
   "metadata": {
    "collapsed": true
   },
   "outputs": [],
   "source": [
    "#vectorize all_reviews\n",
    "review_vectorizer = tfidf.TfidfVectorizer(stop_words='english',max_features = 1000,min_df = 10)"
   ]
  },
  {
   "cell_type": "code",
   "execution_count": 123,
   "metadata": {
    "collapsed": true
   },
   "outputs": [],
   "source": [
    "#vectorize tip_reviews\n",
    "tip_vectorizer = tfidf.TfidfVectorizer(stop_words='english',max_features = 100,min_df = 5)"
   ]
  },
  {
   "cell_type": "code",
   "execution_count": 124,
   "metadata": {
    "collapsed": true
   },
   "outputs": [],
   "source": [
    "matrix1 = review_vectorizer.fit_transform(tip_rev_df['all_reviews'])"
   ]
  },
  {
   "cell_type": "code",
   "execution_count": 125,
   "metadata": {
    "collapsed": true
   },
   "outputs": [],
   "source": [
    "matrix2 = tip_vectorizer.fit_transform(tip_rev_df['all_tips'])"
   ]
  },
  {
   "cell_type": "code",
   "execution_count": 126,
   "metadata": {
    "collapsed": true
   },
   "outputs": [],
   "source": [
    "r_array = matrix1.toarray() \n"
   ]
  },
  {
   "cell_type": "code",
   "execution_count": 127,
   "metadata": {
    "collapsed": true
   },
   "outputs": [],
   "source": [
    "t_array = matrix2.toarray() \n"
   ]
  },
  {
   "cell_type": "code",
   "execution_count": 128,
   "metadata": {},
   "outputs": [
    {
     "name": "stderr",
     "output_type": "stream",
     "text": [
      "/anaconda3/lib/python3.6/site-packages/ipykernel_launcher.py:1: SettingWithCopyWarning: \n",
      "A value is trying to be set on a copy of a slice from a DataFrame.\n",
      "Try using .loc[row_indexer,col_indexer] = value instead\n",
      "\n",
      "See the caveats in the documentation: http://pandas.pydata.org/pandas-docs/stable/indexing.html#indexing-view-versus-copy\n",
      "  \"\"\"Entry point for launching an IPython kernel.\n"
     ]
    }
   ],
   "source": [
    "tip_rev_df['review_count'] = zscore(tip_rev_df['review_count'])"
   ]
  },
  {
   "cell_type": "code",
   "execution_count": 129,
   "metadata": {},
   "outputs": [
    {
     "data": {
      "text/plain": [
       "array([-0.3218743 ,  0.58996536,  0.90132524, ..., -0.33670096,\n",
       "       -0.24774099, -0.33670096])"
      ]
     },
     "execution_count": 129,
     "metadata": {},
     "output_type": "execute_result"
    }
   ],
   "source": [
    "tip_df_toarray = tip_rev_df['review_count'].values\n",
    "tip_df_toarray"
   ]
  },
  {
   "cell_type": "code",
   "execution_count": 130,
   "metadata": {
    "collapsed": true
   },
   "outputs": [],
   "source": [
    "t_arr = np.column_stack((tip_df_toarray,t_array,r_array))\n"
   ]
  },
  {
   "cell_type": "code",
   "execution_count": 131,
   "metadata": {
    "collapsed": true
   },
   "outputs": [],
   "source": [
    "x_train_t,x_test_t,y_train_t,y_test_t = train_test_split(t_arr[:4000],star_rating_arr[:4000], test_size=0.2,random_state=42)"
   ]
  },
  {
   "cell_type": "markdown",
   "metadata": {},
   "source": [
    "### linear regression"
   ]
  },
  {
   "cell_type": "code",
   "execution_count": 132,
   "metadata": {
    "collapsed": true
   },
   "outputs": [],
   "source": [
    "#linear regression\n",
    "linear_reg_tip = linear_model.LinearRegression()"
   ]
  },
  {
   "cell_type": "code",
   "execution_count": 133,
   "metadata": {},
   "outputs": [
    {
     "data": {
      "text/plain": [
       "LinearRegression(copy_X=True, fit_intercept=True, n_jobs=1, normalize=False)"
      ]
     },
     "execution_count": 133,
     "metadata": {},
     "output_type": "execute_result"
    }
   ],
   "source": [
    "linear_reg_tip.fit(x_train_t,y_train_t)"
   ]
  },
  {
   "cell_type": "code",
   "execution_count": 134,
   "metadata": {
    "collapsed": true
   },
   "outputs": [],
   "source": [
    "y_pred_t = linear_reg_tip.predict(x_test_t)"
   ]
  },
  {
   "cell_type": "code",
   "execution_count": 135,
   "metadata": {
    "collapsed": true
   },
   "outputs": [],
   "source": [
    "error_t = np.sqrt(mean_squared_error(y_test_t, y_pred_t))"
   ]
  },
  {
   "cell_type": "code",
   "execution_count": 136,
   "metadata": {},
   "outputs": [
    {
     "name": "stdout",
     "output_type": "stream",
     "text": [
      "Root Mean squared error: 1.26\n",
      "R2 score -0.52\n"
     ]
    }
   ],
   "source": [
    "print(\"Root Mean squared error: %.2f\" % error_t)\n",
    "# Explained variance score: 1 is perfect prediction\n",
    "print('R2 score %.2f' % r2_score(y_test_t, y_pred_t))"
   ]
  },
  {
   "cell_type": "code",
   "execution_count": 137,
   "metadata": {},
   "outputs": [
    {
     "data": {
      "text/html": [
       "<div>\n",
       "<style>\n",
       "    .dataframe thead tr:only-child th {\n",
       "        text-align: right;\n",
       "    }\n",
       "\n",
       "    .dataframe thead th {\n",
       "        text-align: left;\n",
       "    }\n",
       "\n",
       "    .dataframe tbody tr th {\n",
       "        vertical-align: top;\n",
       "    }\n",
       "</style>\n",
       "<table border=\"1\" class=\"dataframe\">\n",
       "  <thead>\n",
       "    <tr style=\"text-align: right;\">\n",
       "      <th></th>\n",
       "      <th>business_id</th>\n",
       "      <th>stars</th>\n",
       "      <th>Prediction</th>\n",
       "    </tr>\n",
       "  </thead>\n",
       "  <tbody>\n",
       "    <tr>\n",
       "      <th>0</th>\n",
       "      <td>1SWheh84yJXfytovILXOAQ</td>\n",
       "      <td>3.0</td>\n",
       "      <td>3.470101</td>\n",
       "    </tr>\n",
       "    <tr>\n",
       "      <th>1</th>\n",
       "      <td>QXAEGFB4oINsVuTFxEYKFQ</td>\n",
       "      <td>2.5</td>\n",
       "      <td>3.512227</td>\n",
       "    </tr>\n",
       "    <tr>\n",
       "      <th>2</th>\n",
       "      <td>gnKjwL_1w79qoiV3IC_xQQ</td>\n",
       "      <td>4.0</td>\n",
       "      <td>4.389699</td>\n",
       "    </tr>\n",
       "    <tr>\n",
       "      <th>3</th>\n",
       "      <td>68dUKd8_8liJ7in4aWOSEA</td>\n",
       "      <td>2.5</td>\n",
       "      <td>4.090591</td>\n",
       "    </tr>\n",
       "    <tr>\n",
       "      <th>4</th>\n",
       "      <td>5JucpCfHZltJh5r1JabjDg</td>\n",
       "      <td>3.5</td>\n",
       "      <td>3.112626</td>\n",
       "    </tr>\n",
       "  </tbody>\n",
       "</table>\n",
       "</div>"
      ],
      "text/plain": [
       "              business_id  stars  Prediction\n",
       "0  1SWheh84yJXfytovILXOAQ    3.0    3.470101\n",
       "1  QXAEGFB4oINsVuTFxEYKFQ    2.5    3.512227\n",
       "2  gnKjwL_1w79qoiV3IC_xQQ    4.0    4.389699\n",
       "3  68dUKd8_8liJ7in4aWOSEA    2.5    4.090591\n",
       "4  5JucpCfHZltJh5r1JabjDg    3.5    3.112626"
      ]
     },
     "execution_count": 137,
     "metadata": {},
     "output_type": "execute_result"
    }
   ],
   "source": [
    "ypred_linear_reg_tip = pd.DataFrame({'Prediction': pd.Series(y_pred_t)})\n",
    "total_linear_regression = pd.concat([newmerge_tip[['business_id','stars']][:5], ypred_linear_reg_tip[:5]], axis=1)\n",
    "total_linear_regression"
   ]
  },
  {
   "cell_type": "markdown",
   "metadata": {},
   "source": [
    "### logistic regression"
   ]
  },
  {
   "cell_type": "code",
   "execution_count": 138,
   "metadata": {
    "collapsed": true
   },
   "outputs": [],
   "source": [
    "#logistic regression\n",
    "logreg_tip = LogisticRegression()"
   ]
  },
  {
   "cell_type": "code",
   "execution_count": 139,
   "metadata": {
    "collapsed": true
   },
   "outputs": [],
   "source": [
    "labelencoder_tip = LabelEncoder()"
   ]
  },
  {
   "cell_type": "code",
   "execution_count": 140,
   "metadata": {
    "collapsed": true
   },
   "outputs": [],
   "source": [
    "stars = newmerge_tip.values"
   ]
  },
  {
   "cell_type": "code",
   "execution_count": 141,
   "metadata": {},
   "outputs": [
    {
     "data": {
      "text/html": [
       "<div>\n",
       "<style>\n",
       "    .dataframe thead tr:only-child th {\n",
       "        text-align: right;\n",
       "    }\n",
       "\n",
       "    .dataframe thead th {\n",
       "        text-align: left;\n",
       "    }\n",
       "\n",
       "    .dataframe tbody tr th {\n",
       "        vertical-align: top;\n",
       "    }\n",
       "</style>\n",
       "<table border=\"1\" class=\"dataframe\">\n",
       "  <thead>\n",
       "    <tr style=\"text-align: right;\">\n",
       "      <th></th>\n",
       "      <th>0</th>\n",
       "      <th>1</th>\n",
       "      <th>2</th>\n",
       "      <th>3</th>\n",
       "      <th>4</th>\n",
       "    </tr>\n",
       "  </thead>\n",
       "  <tbody>\n",
       "    <tr>\n",
       "      <th>0</th>\n",
       "      <td>1SWheh84yJXfytovILXOAQ</td>\n",
       "      <td>5</td>\n",
       "      <td>4</td>\n",
       "      <td>b\"Don't go here if you expect consistent or re...</td>\n",
       "      <td>Played for the first there this past weekend a...</td>\n",
       "    </tr>\n",
       "    <tr>\n",
       "      <th>1</th>\n",
       "      <td>QXAEGFB4oINsVuTFxEYKFQ</td>\n",
       "      <td>128</td>\n",
       "      <td>3</td>\n",
       "      <td>b'My girlfriend and I went for dinner at Emera...</td>\n",
       "      <td>Spring &amp; egg rolls are great, get them with ex...</td>\n",
       "    </tr>\n",
       "    <tr>\n",
       "      <th>2</th>\n",
       "      <td>gnKjwL_1w79qoiV3IC_xQQ</td>\n",
       "      <td>170</td>\n",
       "      <td>6</td>\n",
       "      <td>b'Husband was craving Chicken Teriyaki &amp; gyoza...</td>\n",
       "      <td>Tonkatsu Ramen!!!Ramen, Gyoza, miso soup and g...</td>\n",
       "    </tr>\n",
       "    <tr>\n",
       "      <th>3</th>\n",
       "      <td>68dUKd8_8liJ7in4aWOSEA</td>\n",
       "      <td>3</td>\n",
       "      <td>3</td>\n",
       "      <td>b'horrible. do not go.  staff is dishonest and...</td>\n",
       "      <td>Good service</td>\n",
       "    </tr>\n",
       "    <tr>\n",
       "      <th>4</th>\n",
       "      <td>5JucpCfHZltJh5r1JabjDg</td>\n",
       "      <td>7</td>\n",
       "      <td>5</td>\n",
       "      <td>b'OK place- I\\'ve gone for a couple of years a...</td>\n",
       "      <td>George does the best gel nails!!!</td>\n",
       "    </tr>\n",
       "  </tbody>\n",
       "</table>\n",
       "</div>"
      ],
      "text/plain": [
       "                        0    1  2  \\\n",
       "0  1SWheh84yJXfytovILXOAQ    5  4   \n",
       "1  QXAEGFB4oINsVuTFxEYKFQ  128  3   \n",
       "2  gnKjwL_1w79qoiV3IC_xQQ  170  6   \n",
       "3  68dUKd8_8liJ7in4aWOSEA    3  3   \n",
       "4  5JucpCfHZltJh5r1JabjDg    7  5   \n",
       "\n",
       "                                                   3  \\\n",
       "0  b\"Don't go here if you expect consistent or re...   \n",
       "1  b'My girlfriend and I went for dinner at Emera...   \n",
       "2  b'Husband was craving Chicken Teriyaki & gyoza...   \n",
       "3  b'horrible. do not go.  staff is dishonest and...   \n",
       "4  b'OK place- I\\'ve gone for a couple of years a...   \n",
       "\n",
       "                                                   4  \n",
       "0  Played for the first there this past weekend a...  \n",
       "1  Spring & egg rolls are great, get them with ex...  \n",
       "2  Tonkatsu Ramen!!!Ramen, Gyoza, miso soup and g...  \n",
       "3                                       Good service  \n",
       "4                  George does the best gel nails!!!  "
      ]
     },
     "execution_count": 141,
     "metadata": {},
     "output_type": "execute_result"
    }
   ],
   "source": [
    "stars[:, 2] = labelencoder_tip.fit_transform(stars[:, 2])\n",
    "review_merge_tip = pd.DataFrame(stars)\n",
    "review_merge_tip.head()"
   ]
  },
  {
   "cell_type": "code",
   "execution_count": 142,
   "metadata": {},
   "outputs": [
    {
     "data": {
      "text/plain": [
       "array([4, 3, 6, ..., 7, 7, 6], dtype=object)"
      ]
     },
     "execution_count": 142,
     "metadata": {},
     "output_type": "execute_result"
    }
   ],
   "source": [
    "review_stars_tip = review_merge_tip[2].values\n",
    "review_stars_tip"
   ]
  },
  {
   "cell_type": "code",
   "execution_count": 143,
   "metadata": {
    "collapsed": true
   },
   "outputs": [],
   "source": [
    "review_stars_tip = review_stars_tip.astype('int')"
   ]
  },
  {
   "cell_type": "code",
   "execution_count": 144,
   "metadata": {
    "collapsed": true
   },
   "outputs": [],
   "source": [
    "x_train_t,x_test_t,y_train_t1,y_test_t1 = train_test_split(t_arr[:4000],review_stars_tip[:4000], test_size=0.2,random_state=42)"
   ]
  },
  {
   "cell_type": "code",
   "execution_count": 145,
   "metadata": {},
   "outputs": [
    {
     "data": {
      "text/plain": [
       "LogisticRegression(C=1.0, class_weight=None, dual=False, fit_intercept=True,\n",
       "          intercept_scaling=1, max_iter=100, multi_class='ovr', n_jobs=1,\n",
       "          penalty='l2', random_state=None, solver='liblinear', tol=0.0001,\n",
       "          verbose=0, warm_start=False)"
      ]
     },
     "execution_count": 145,
     "metadata": {},
     "output_type": "execute_result"
    }
   ],
   "source": [
    "logreg_tip.fit(x_train_t, y_train_t1)"
   ]
  },
  {
   "cell_type": "code",
   "execution_count": 146,
   "metadata": {
    "collapsed": true
   },
   "outputs": [],
   "source": [
    "y_pred_tip=logreg_tip.predict(x_test_t)"
   ]
  },
  {
   "cell_type": "code",
   "execution_count": 147,
   "metadata": {},
   "outputs": [
    {
     "data": {
      "text/plain": [
       "array([5.0, 5.0, 4.0, 3.0, 3.5, 4.0, 3.5, 2.0, 3.5, 4.0], dtype=object)"
      ]
     },
     "execution_count": 147,
     "metadata": {},
     "output_type": "execute_result"
    }
   ],
   "source": [
    "decode_y_tip = (labelencoder.inverse_transform(y_pred_tip)[:10])\n",
    "decode_y_tip"
   ]
  },
  {
   "cell_type": "code",
   "execution_count": 148,
   "metadata": {},
   "outputs": [
    {
     "data": {
      "text/html": [
       "<div>\n",
       "<style>\n",
       "    .dataframe thead tr:only-child th {\n",
       "        text-align: right;\n",
       "    }\n",
       "\n",
       "    .dataframe thead th {\n",
       "        text-align: left;\n",
       "    }\n",
       "\n",
       "    .dataframe tbody tr th {\n",
       "        vertical-align: top;\n",
       "    }\n",
       "</style>\n",
       "<table border=\"1\" class=\"dataframe\">\n",
       "  <thead>\n",
       "    <tr style=\"text-align: right;\">\n",
       "      <th></th>\n",
       "      <th>business_id</th>\n",
       "      <th>stars</th>\n",
       "      <th>Prediction</th>\n",
       "    </tr>\n",
       "  </thead>\n",
       "  <tbody>\n",
       "    <tr>\n",
       "      <th>0</th>\n",
       "      <td>1SWheh84yJXfytovILXOAQ</td>\n",
       "      <td>3.0</td>\n",
       "      <td>5</td>\n",
       "    </tr>\n",
       "    <tr>\n",
       "      <th>1</th>\n",
       "      <td>QXAEGFB4oINsVuTFxEYKFQ</td>\n",
       "      <td>2.5</td>\n",
       "      <td>5</td>\n",
       "    </tr>\n",
       "    <tr>\n",
       "      <th>2</th>\n",
       "      <td>gnKjwL_1w79qoiV3IC_xQQ</td>\n",
       "      <td>4.0</td>\n",
       "      <td>4</td>\n",
       "    </tr>\n",
       "    <tr>\n",
       "      <th>3</th>\n",
       "      <td>68dUKd8_8liJ7in4aWOSEA</td>\n",
       "      <td>2.5</td>\n",
       "      <td>3</td>\n",
       "    </tr>\n",
       "    <tr>\n",
       "      <th>4</th>\n",
       "      <td>5JucpCfHZltJh5r1JabjDg</td>\n",
       "      <td>3.5</td>\n",
       "      <td>3.5</td>\n",
       "    </tr>\n",
       "  </tbody>\n",
       "</table>\n",
       "</div>"
      ],
      "text/plain": [
       "              business_id  stars Prediction\n",
       "0  1SWheh84yJXfytovILXOAQ    3.0          5\n",
       "1  QXAEGFB4oINsVuTFxEYKFQ    2.5          5\n",
       "2  gnKjwL_1w79qoiV3IC_xQQ    4.0          4\n",
       "3  68dUKd8_8liJ7in4aWOSEA    2.5          3\n",
       "4  5JucpCfHZltJh5r1JabjDg    3.5        3.5"
      ]
     },
     "execution_count": 148,
     "metadata": {},
     "output_type": "execute_result"
    }
   ],
   "source": [
    "ypred_LR_t = pd.DataFrame({'Prediction': pd.Series(decode_y_tip)})\n",
    "log_regression_t = pd.concat([newmerge_tip[['business_id','stars']][:5], ypred_LR_t[:5]], axis=1)\n",
    "log_regression_t"
   ]
  },
  {
   "cell_type": "code",
   "execution_count": 149,
   "metadata": {},
   "outputs": [
    {
     "name": "stdout",
     "output_type": "stream",
     "text": [
      "Evaluating with F1 score metric: 0.34\n"
     ]
    }
   ],
   "source": [
    "print('Evaluating with F1 score metric: %.2f' % f1_score(y_test_t1, y_pred_tip,average='micro'))"
   ]
  },
  {
   "cell_type": "markdown",
   "metadata": {},
   "source": [
    "### knn"
   ]
  },
  {
   "cell_type": "code",
   "execution_count": 150,
   "metadata": {
    "collapsed": true
   },
   "outputs": [],
   "source": [
    "#knn\n",
    "knn_tip = KNeighborsClassifier(n_neighbors=10)\n"
   ]
  },
  {
   "cell_type": "code",
   "execution_count": 151,
   "metadata": {},
   "outputs": [
    {
     "data": {
      "text/plain": [
       "KNeighborsClassifier(algorithm='auto', leaf_size=30, metric='minkowski',\n",
       "           metric_params=None, n_jobs=1, n_neighbors=10, p=2,\n",
       "           weights='uniform')"
      ]
     },
     "execution_count": 151,
     "metadata": {},
     "output_type": "execute_result"
    }
   ],
   "source": [
    "knn_tip.fit(x_train_t, y_train_t1)"
   ]
  },
  {
   "cell_type": "code",
   "execution_count": 152,
   "metadata": {
    "collapsed": true
   },
   "outputs": [],
   "source": [
    "y_pred_knn_t = knn_tip.predict(x_test_t)"
   ]
  },
  {
   "cell_type": "code",
   "execution_count": 153,
   "metadata": {},
   "outputs": [
    {
     "data": {
      "text/plain": [
       "array([3.0, 5.0, 4.0, 3.5, 4.0, 4.5, 2.5, 1.5, 3.0, 3.0], dtype=object)"
      ]
     },
     "execution_count": 153,
     "metadata": {},
     "output_type": "execute_result"
    }
   ],
   "source": [
    "decode_y_tip_knn = (labelencoder.inverse_transform(y_pred_knn_t)[:10])\n",
    "decode_y_tip_knn"
   ]
  },
  {
   "cell_type": "code",
   "execution_count": 154,
   "metadata": {},
   "outputs": [
    {
     "data": {
      "text/html": [
       "<div>\n",
       "<style>\n",
       "    .dataframe thead tr:only-child th {\n",
       "        text-align: right;\n",
       "    }\n",
       "\n",
       "    .dataframe thead th {\n",
       "        text-align: left;\n",
       "    }\n",
       "\n",
       "    .dataframe tbody tr th {\n",
       "        vertical-align: top;\n",
       "    }\n",
       "</style>\n",
       "<table border=\"1\" class=\"dataframe\">\n",
       "  <thead>\n",
       "    <tr style=\"text-align: right;\">\n",
       "      <th></th>\n",
       "      <th>business_id</th>\n",
       "      <th>stars</th>\n",
       "      <th>Prediction</th>\n",
       "    </tr>\n",
       "  </thead>\n",
       "  <tbody>\n",
       "    <tr>\n",
       "      <th>0</th>\n",
       "      <td>1SWheh84yJXfytovILXOAQ</td>\n",
       "      <td>3.0</td>\n",
       "      <td>3</td>\n",
       "    </tr>\n",
       "    <tr>\n",
       "      <th>1</th>\n",
       "      <td>QXAEGFB4oINsVuTFxEYKFQ</td>\n",
       "      <td>2.5</td>\n",
       "      <td>5</td>\n",
       "    </tr>\n",
       "    <tr>\n",
       "      <th>2</th>\n",
       "      <td>gnKjwL_1w79qoiV3IC_xQQ</td>\n",
       "      <td>4.0</td>\n",
       "      <td>4</td>\n",
       "    </tr>\n",
       "    <tr>\n",
       "      <th>3</th>\n",
       "      <td>68dUKd8_8liJ7in4aWOSEA</td>\n",
       "      <td>2.5</td>\n",
       "      <td>3.5</td>\n",
       "    </tr>\n",
       "    <tr>\n",
       "      <th>4</th>\n",
       "      <td>5JucpCfHZltJh5r1JabjDg</td>\n",
       "      <td>3.5</td>\n",
       "      <td>4</td>\n",
       "    </tr>\n",
       "  </tbody>\n",
       "</table>\n",
       "</div>"
      ],
      "text/plain": [
       "              business_id  stars Prediction\n",
       "0  1SWheh84yJXfytovILXOAQ    3.0          3\n",
       "1  QXAEGFB4oINsVuTFxEYKFQ    2.5          5\n",
       "2  gnKjwL_1w79qoiV3IC_xQQ    4.0          4\n",
       "3  68dUKd8_8liJ7in4aWOSEA    2.5        3.5\n",
       "4  5JucpCfHZltJh5r1JabjDg    3.5          4"
      ]
     },
     "execution_count": 154,
     "metadata": {},
     "output_type": "execute_result"
    }
   ],
   "source": [
    "ypred_knn_t = pd.DataFrame({'Prediction': pd.Series(decode_y_tip_knn)})\n",
    "knn_t = pd.concat([newmerge_tip[['business_id','stars']][:5], ypred_knn_t[:5]], axis=1)\n",
    "knn_t"
   ]
  },
  {
   "cell_type": "code",
   "execution_count": 155,
   "metadata": {},
   "outputs": [
    {
     "name": "stdout",
     "output_type": "stream",
     "text": [
      "Evaluating with F1 score metric: 0.24\n"
     ]
    }
   ],
   "source": [
    "print('Evaluating with F1 score metric: %.2f' % f1_score(y_test_t1, y_pred_knn_t,average='micro'))"
   ]
  },
  {
   "cell_type": "markdown",
   "metadata": {},
   "source": [
    "### svm"
   ]
  },
  {
   "cell_type": "code",
   "execution_count": 156,
   "metadata": {
    "collapsed": true
   },
   "outputs": [],
   "source": [
    "#svm\n",
    "\n",
    "model_tip = svm.SVC() "
   ]
  },
  {
   "cell_type": "code",
   "execution_count": 157,
   "metadata": {},
   "outputs": [
    {
     "data": {
      "text/plain": [
       "SVC(C=1.0, cache_size=200, class_weight=None, coef0=0.0,\n",
       "  decision_function_shape='ovr', degree=3, gamma='auto', kernel='rbf',\n",
       "  max_iter=-1, probability=False, random_state=None, shrinking=True,\n",
       "  tol=0.001, verbose=False)"
      ]
     },
     "execution_count": 157,
     "metadata": {},
     "output_type": "execute_result"
    }
   ],
   "source": [
    "model_tip.fit(x_train_t, y_train_t1)"
   ]
  },
  {
   "cell_type": "code",
   "execution_count": 158,
   "metadata": {
    "collapsed": true
   },
   "outputs": [],
   "source": [
    "y_pred_SVM_t = model_tip.predict(x_test_t)"
   ]
  },
  {
   "cell_type": "code",
   "execution_count": 159,
   "metadata": {},
   "outputs": [
    {
     "data": {
      "text/html": [
       "<div>\n",
       "<style>\n",
       "    .dataframe thead tr:only-child th {\n",
       "        text-align: right;\n",
       "    }\n",
       "\n",
       "    .dataframe thead th {\n",
       "        text-align: left;\n",
       "    }\n",
       "\n",
       "    .dataframe tbody tr th {\n",
       "        vertical-align: top;\n",
       "    }\n",
       "</style>\n",
       "<table border=\"1\" class=\"dataframe\">\n",
       "  <thead>\n",
       "    <tr style=\"text-align: right;\">\n",
       "      <th></th>\n",
       "      <th>business_id</th>\n",
       "      <th>stars</th>\n",
       "      <th>Prediction</th>\n",
       "    </tr>\n",
       "  </thead>\n",
       "  <tbody>\n",
       "    <tr>\n",
       "      <th>0</th>\n",
       "      <td>1SWheh84yJXfytovILXOAQ</td>\n",
       "      <td>3.0</td>\n",
       "      <td>6</td>\n",
       "    </tr>\n",
       "    <tr>\n",
       "      <th>1</th>\n",
       "      <td>QXAEGFB4oINsVuTFxEYKFQ</td>\n",
       "      <td>2.5</td>\n",
       "      <td>6</td>\n",
       "    </tr>\n",
       "    <tr>\n",
       "      <th>2</th>\n",
       "      <td>gnKjwL_1w79qoiV3IC_xQQ</td>\n",
       "      <td>4.0</td>\n",
       "      <td>6</td>\n",
       "    </tr>\n",
       "    <tr>\n",
       "      <th>3</th>\n",
       "      <td>68dUKd8_8liJ7in4aWOSEA</td>\n",
       "      <td>2.5</td>\n",
       "      <td>6</td>\n",
       "    </tr>\n",
       "    <tr>\n",
       "      <th>4</th>\n",
       "      <td>5JucpCfHZltJh5r1JabjDg</td>\n",
       "      <td>3.5</td>\n",
       "      <td>6</td>\n",
       "    </tr>\n",
       "  </tbody>\n",
       "</table>\n",
       "</div>"
      ],
      "text/plain": [
       "              business_id  stars  Prediction\n",
       "0  1SWheh84yJXfytovILXOAQ    3.0           6\n",
       "1  QXAEGFB4oINsVuTFxEYKFQ    2.5           6\n",
       "2  gnKjwL_1w79qoiV3IC_xQQ    4.0           6\n",
       "3  68dUKd8_8liJ7in4aWOSEA    2.5           6\n",
       "4  5JucpCfHZltJh5r1JabjDg    3.5           6"
      ]
     },
     "execution_count": 159,
     "metadata": {},
     "output_type": "execute_result"
    }
   ],
   "source": [
    "ypred_svm_t = pd.DataFrame({'Prediction': pd.Series(y_pred_SVM_t)})\n",
    "svm_t = pd.concat([newmerge_tip[['business_id','stars']][:5], ypred_svm_t[:5]], axis=1)\n",
    "svm_t"
   ]
  },
  {
   "cell_type": "code",
   "execution_count": 160,
   "metadata": {},
   "outputs": [
    {
     "name": "stdout",
     "output_type": "stream",
     "text": [
      "Evaluating with F1 score metric: 0.25\n"
     ]
    }
   ],
   "source": [
    "print('Evaluating with F1 score metric: %.2f' % f1_score(y_test_t1, y_pred_SVM_t,average='micro'))"
   ]
  },
  {
   "cell_type": "code",
   "execution_count": null,
   "metadata": {
    "collapsed": true
   },
   "outputs": [],
   "source": []
  }
 ],
 "metadata": {
  "kernelspec": {
   "display_name": "Python 3",
   "language": "python",
   "name": "python3"
  },
  "language_info": {
   "codemirror_mode": {
    "name": "ipython",
    "version": 3
   },
   "file_extension": ".py",
   "mimetype": "text/x-python",
   "name": "python",
   "nbconvert_exporter": "python",
   "pygments_lexer": "ipython3",
   "version": "3.6.3"
  }
 },
 "nbformat": 4,
 "nbformat_minor": 2
}
